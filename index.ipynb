{
 "cells": [
  {
   "cell_type": "markdown",
   "id": "9a8077a6-ae58-4d38-a22c-b51bab11ebef",
   "metadata": {},
   "source": [
    "# Which customer Accepts Bank's Term Deposit?"
   ]
  },
  {
   "cell_type": "markdown",
   "id": "d9377a86",
   "metadata": {},
   "source": [
    "\"How can a bank effectively predict which customers are likely to subscribe to a term deposit, thereby optimizing their marketing strategies and improving the success rates of their direct marketing campaigns?\""
   ]
  },
  {
   "cell_type": "markdown",
   "id": "4cf591f2-b2f6-4e7b-b63f-0b3266b171a1",
   "metadata": {},
   "source": [
    "![image](Images/bank_marketing.jpg)"
   ]
  },
  {
   "cell_type": "markdown",
   "id": "f5d6f5e8-e4b7-47cf-9f28-9ca5d193d057",
   "metadata": {},
   "source": [
    "## 1. Project Description\n",
    "\n",
    "#### This project aims to predict whether a client will subscribe to a bank term deposit based on historical data from direct marketing campaigns conducted by a Portuguese banking institution. The dataset contains various attributes related to the clients' demographic information, banking history, and details about the marketing campaign.\n",
    "\n",
    "#### The aim is to develop a classification model that can help the bank target potential customers more effectively, thereby increasing the success rate of their marketing campaigns."
   ]
  },
  {
   "cell_type": "markdown",
   "id": "d48bf7e9-b5d0-4e3f-a37c-45c44a90975f",
   "metadata": {},
   "source": [
    "## 2. Dataset Understanding\n",
    "\n",
    "The dataset used for this project is `bank-full.csv`, [Download](https://archive.ics.uci.edu/dataset/222/bank+marketing), which contains data from direct marketing campaigns. The dataset consists of 9 input variables and one target variable `y`. The target variable `y` indicates whether a client has subscribed to a term deposit `yes` or not `no`.\n",
    "\n",
    "* The dataset consists of 45211 records.\n",
    "* the dataset does not have missing values"
   ]
  },
  {
   "cell_type": "markdown",
   "id": "9b2ce031-3f79-44c7-8bdb-dd99bf12bff9",
   "metadata": {},
   "source": [
    "### 2.1. The variables/Features used for this project are:\n",
    "\n",
    "1. `age` which is an integer\n",
    "2. `job` which explains the type of job (categorical: `admin`,`blue-collar`,`entrepreneur`,`housemaid`,`management`,`retired`,`self-employed`,`services`,`student`,`technician`,`unemployed`,`unknown`)\n",
    "3. `marital` which is marital status (categorical: `divorced`,`married`,`single`,`unknown`; note: 'divorced' means divorced or widowed)\n",
    "4. `default` which explains if the customer has credit in default - Binary\n",
    "5. `balance` which is the average yearly balance - Integer\n",
    "6. `housing` which is if the customer has housing loan - binary\n",
    "7. `loan` which is if the client has personal loan - binary\n",
    "8. `campaign` which is the number of contacts performed during this campaign and for this client (numeric, includes last contact)\n",
    "9. `poutcome` explains the outcome of the previous marketing campaign (categorical: `failure`,`nonexistent`,`success`)\n",
    "10. `y` which is the target. has the client subscribed a term deposit?"
   ]
  },
  {
   "cell_type": "markdown",
   "id": "728cad13-ce6c-4123-896a-72acfa62f349",
   "metadata": {},
   "source": [
    "## 3. Data Understanding and Preprocessing"
   ]
  },
  {
   "cell_type": "markdown",
   "id": "db34d19a-ec90-4fb9-9944-00409cd8bf90",
   "metadata": {},
   "source": [
    "### 3.1 Importing Libraries"
   ]
  },
  {
   "cell_type": "code",
   "execution_count": 2,
   "id": "2848ca98-2663-43d6-9eb6-3bdd82179716",
   "metadata": {},
   "outputs": [],
   "source": [
    "# importing libraries \n",
    "\n",
    "import pandas as pd\n",
    "import numpy as np\n",
    "import matplotlib.pyplot as plt\n",
    "import seaborn as sns\n",
    "\n",
    "from sklearn.model_selection import train_test_split\n",
    "from sklearn.tree import DecisionTreeClassifier\n",
    "from sklearn.preprocessing import StandardScaler, OneHotEncoder\n",
    "from imblearn.over_sampling import SMOTE\n",
    "from sklearn.linear_model import LogisticRegression\n",
    "from sklearn.metrics import classification_report, confusion_matrix, ConfusionMatrixDisplay, roc_auc_score\n",
    "%matplotlib inline"
   ]
  },
  {
   "cell_type": "markdown",
   "id": "99263516-1214-4d05-8faf-cc003462a508",
   "metadata": {},
   "source": [
    "### 3.2 Load dataset"
   ]
  },
  {
   "cell_type": "code",
   "execution_count": 3,
   "id": "ffdf2edc-10bb-4798-9332-b12f6b075939",
   "metadata": {},
   "outputs": [
    {
     "data": {
      "text/html": [
       "<div>\n",
       "<style scoped>\n",
       "    .dataframe tbody tr th:only-of-type {\n",
       "        vertical-align: middle;\n",
       "    }\n",
       "\n",
       "    .dataframe tbody tr th {\n",
       "        vertical-align: top;\n",
       "    }\n",
       "\n",
       "    .dataframe thead th {\n",
       "        text-align: right;\n",
       "    }\n",
       "</style>\n",
       "<table border=\"1\" class=\"dataframe\">\n",
       "  <thead>\n",
       "    <tr style=\"text-align: right;\">\n",
       "      <th></th>\n",
       "      <th>age</th>\n",
       "      <th>job</th>\n",
       "      <th>marital</th>\n",
       "      <th>default</th>\n",
       "      <th>balance</th>\n",
       "      <th>housing</th>\n",
       "      <th>loan</th>\n",
       "      <th>campaign</th>\n",
       "      <th>poutcome</th>\n",
       "      <th>y</th>\n",
       "    </tr>\n",
       "  </thead>\n",
       "  <tbody>\n",
       "    <tr>\n",
       "      <th>0</th>\n",
       "      <td>58</td>\n",
       "      <td>management</td>\n",
       "      <td>married</td>\n",
       "      <td>no</td>\n",
       "      <td>2143</td>\n",
       "      <td>yes</td>\n",
       "      <td>no</td>\n",
       "      <td>1</td>\n",
       "      <td>unknown</td>\n",
       "      <td>no</td>\n",
       "    </tr>\n",
       "    <tr>\n",
       "      <th>1</th>\n",
       "      <td>44</td>\n",
       "      <td>technician</td>\n",
       "      <td>single</td>\n",
       "      <td>no</td>\n",
       "      <td>29</td>\n",
       "      <td>yes</td>\n",
       "      <td>no</td>\n",
       "      <td>1</td>\n",
       "      <td>unknown</td>\n",
       "      <td>no</td>\n",
       "    </tr>\n",
       "    <tr>\n",
       "      <th>2</th>\n",
       "      <td>33</td>\n",
       "      <td>entrepreneur</td>\n",
       "      <td>married</td>\n",
       "      <td>no</td>\n",
       "      <td>2</td>\n",
       "      <td>yes</td>\n",
       "      <td>yes</td>\n",
       "      <td>1</td>\n",
       "      <td>unknown</td>\n",
       "      <td>no</td>\n",
       "    </tr>\n",
       "    <tr>\n",
       "      <th>3</th>\n",
       "      <td>47</td>\n",
       "      <td>blue-collar</td>\n",
       "      <td>married</td>\n",
       "      <td>no</td>\n",
       "      <td>1506</td>\n",
       "      <td>yes</td>\n",
       "      <td>no</td>\n",
       "      <td>1</td>\n",
       "      <td>unknown</td>\n",
       "      <td>no</td>\n",
       "    </tr>\n",
       "    <tr>\n",
       "      <th>4</th>\n",
       "      <td>33</td>\n",
       "      <td>unknown</td>\n",
       "      <td>single</td>\n",
       "      <td>no</td>\n",
       "      <td>1</td>\n",
       "      <td>no</td>\n",
       "      <td>no</td>\n",
       "      <td>1</td>\n",
       "      <td>unknown</td>\n",
       "      <td>no</td>\n",
       "    </tr>\n",
       "  </tbody>\n",
       "</table>\n",
       "</div>"
      ],
      "text/plain": [
       "   age           job  marital default  balance housing loan  campaign  \\\n",
       "0   58    management  married      no     2143     yes   no         1   \n",
       "1   44    technician   single      no       29     yes   no         1   \n",
       "2   33  entrepreneur  married      no        2     yes  yes         1   \n",
       "3   47   blue-collar  married      no     1506     yes   no         1   \n",
       "4   33       unknown   single      no        1      no   no         1   \n",
       "\n",
       "  poutcome   y  \n",
       "0  unknown  no  \n",
       "1  unknown  no  \n",
       "2  unknown  no  \n",
       "3  unknown  no  \n",
       "4  unknown  no  "
      ]
     },
     "execution_count": 3,
     "metadata": {},
     "output_type": "execute_result"
    }
   ],
   "source": [
    "# loading the dataset\n",
    "\n",
    "# relevant columns\n",
    "selected_columns = ['age', 'job', 'marital', 'default', 'balance', 'housing', 'loan', 'campaign', 'poutcome', 'y']\n",
    "\n",
    "# Load the dataset\n",
    "data = pd.read_csv('Data/bank-full.csv', delimiter=';', usecols=selected_columns)\n",
    "\n",
    "# Display the first 5 rows of the dataframe\n",
    "data.head()"
   ]
  },
  {
   "cell_type": "code",
   "execution_count": 4,
   "id": "371ba962-c402-4a45-a1d6-2cb29c217d9c",
   "metadata": {},
   "outputs": [
    {
     "data": {
      "text/plain": [
       "(45211, 10)"
      ]
     },
     "execution_count": 4,
     "metadata": {},
     "output_type": "execute_result"
    }
   ],
   "source": [
    "data.shape"
   ]
  },
  {
   "cell_type": "markdown",
   "id": "2489b6dc-b894-4d68-92ec-1b326a7ecd3a",
   "metadata": {},
   "source": [
    "* The dataset has `45211` data rows (instances). this is a large dataset for the training model and draw conclusions.\n",
    "* The dataset has `10` columns as ststed above."
   ]
  },
  {
   "cell_type": "code",
   "execution_count": 5,
   "id": "beab3534-6e6b-42f2-90f3-710441c4c531",
   "metadata": {},
   "outputs": [
    {
     "name": "stdout",
     "output_type": "stream",
     "text": [
      "<class 'pandas.core.frame.DataFrame'>\n",
      "RangeIndex: 45211 entries, 0 to 45210\n",
      "Data columns (total 10 columns):\n",
      " #   Column    Non-Null Count  Dtype \n",
      "---  ------    --------------  ----- \n",
      " 0   age       45211 non-null  int64 \n",
      " 1   job       45211 non-null  object\n",
      " 2   marital   45211 non-null  object\n",
      " 3   default   45211 non-null  object\n",
      " 4   balance   45211 non-null  int64 \n",
      " 5   housing   45211 non-null  object\n",
      " 6   loan      45211 non-null  object\n",
      " 7   campaign  45211 non-null  int64 \n",
      " 8   poutcome  45211 non-null  object\n",
      " 9   y         45211 non-null  object\n",
      "dtypes: int64(3), object(7)\n",
      "memory usage: 3.4+ MB\n"
     ]
    }
   ],
   "source": [
    "data.info()"
   ]
  },
  {
   "cell_type": "markdown",
   "id": "5de05d66-8661-428c-b16d-521c81036b1d",
   "metadata": {},
   "source": [
    "the dataset has no null values"
   ]
  },
  {
   "cell_type": "markdown",
   "id": "1fb97089-09c5-4cda-80e7-e5acd0def2b9",
   "metadata": {},
   "source": [
    "### 3.3 Visualizing outcome distribution"
   ]
  },
  {
   "cell_type": "code",
   "execution_count": 6,
   "id": "bff3412f-2e76-4e2d-a17f-a6513abe8d24",
   "metadata": {},
   "outputs": [
    {
     "data": {
      "image/png": "[encoded data removed]",
      "text/plain": [
       "<Figure size 640x480 with 1 Axes>"
      ]
     },
     "metadata": {},
     "output_type": "display_data"
    }
   ],
   "source": [
    "plt.hist(data.y, color='blue')\n",
    "plt.title('target distribution')\n",
    "plt.xlabel('outcome')\n",
    "plt.ylabel('Count')\n",
    "\n",
    "# Add value counts on top of the bars\n",
    "value_counts = data['y'].value_counts()\n",
    "for i, count in enumerate(value_counts):\n",
    "    plt.text(i, count, str(count), va='bottom', fontsize=12)\n",
    "\n",
    "plt.show()"
   ]
  },
  {
   "cell_type": "markdown",
   "id": "9a4872bc-af33-4b7d-9819-ece193474228",
   "metadata": {},
   "source": [
    "From the distribution, the number of `yes` is 5289 which is 11.7% of the whole dataset. Meaning the data is highly imbalanced to the `no` outcomes and a model can be 89% right by classifying all as `no` which will not be a good outcome.\n",
    "\n",
    "We will apply `SMOTE` from `imblearn` module to handle the class imbalance"
   ]
  },
  {
   "cell_type": "markdown",
   "id": "8530ccaf-9811-4276-b80e-51867e235d5d",
   "metadata": {},
   "source": [
    "### 3.4 Visualizing the age distibution of the clients"
   ]
  },
  {
   "cell_type": "code",
   "execution_count": 7,
   "id": "7842e794-8dc8-40a5-9a32-77a357583633",
   "metadata": {},
   "outputs": [
    {
     "name": "stderr",
     "output_type": "stream",
     "text": [
      "C:\\Users\\Floyed\\AppData\\Local\\Temp\\ipykernel_12548\\1976210915.py:1: UserWarning: \n",
      "\n",
      "`distplot` is a deprecated function and will be removed in seaborn v0.14.0.\n",
      "\n",
      "Please adapt your code to use either `displot` (a figure-level function with\n",
      "similar flexibility) or `histplot` (an axes-level function for histograms).\n",
      "\n",
      "For a guide to updating your code to use the new functions, please see\n",
      "https://gist.github.com/mwaskom/de44147ed2974457ad6372750bbe5751\n",
      "\n",
      "  sns.distplot(data.age, color='blue')\n"
     ]
    },
    {
     "data": {
      "image/png": "[encoded data removed]",
      "text/plain": [
       "<Figure size 640x480 with 1 Axes>"
      ]
     },
     "metadata": {},
     "output_type": "display_data"
    }
   ],
   "source": [
    "sns.distplot(data.age, color='blue')\n",
    "plt.savefig('Images/age.png', dpi=300, bbox_inches='tight')"
   ]
  },
  {
   "cell_type": "markdown",
   "id": "40b04f98-524f-498c-a180-9032c5f3bb9c",
   "metadata": {},
   "source": [
    "The age distribution takes almost normal distribution from 20-100 years. The normal distribution is good for study as we can study the rate of subscription on age brackets leading to a more detailed conclusions and marketing startegy."
   ]
  },
  {
   "cell_type": "markdown",
   "id": "3ae40c6c-a858-4f70-a312-f601e2e336f6",
   "metadata": {},
   "source": [
    "### 3.5 distribution of job categories"
   ]
  },
  {
   "cell_type": "markdown",
   "id": "ca46793c-4a8d-4302-94fe-23db29e5b969",
   "metadata": {},
   "source": [
    "Study of Job categories helps study which job categories have a high rate of subscription to the bank deposit terms."
   ]
  },
  {
   "cell_type": "code",
   "execution_count": 8,
   "id": "3bf7a518-7e2b-4c91-ad13-d041640acacd",
   "metadata": {},
   "outputs": [
    {
     "data": {
      "text/html": [
       "<div>\n",
       "<style scoped>\n",
       "    .dataframe tbody tr th:only-of-type {\n",
       "        vertical-align: middle;\n",
       "    }\n",
       "\n",
       "    .dataframe tbody tr th {\n",
       "        vertical-align: top;\n",
       "    }\n",
       "\n",
       "    .dataframe thead th {\n",
       "        text-align: right;\n",
       "    }\n",
       "</style>\n",
       "<table border=\"1\" class=\"dataframe\">\n",
       "  <thead>\n",
       "    <tr style=\"text-align: right;\">\n",
       "      <th>y</th>\n",
       "      <th>no</th>\n",
       "      <th>yes</th>\n",
       "      <th>rate</th>\n",
       "    </tr>\n",
       "    <tr>\n",
       "      <th>job</th>\n",
       "      <th></th>\n",
       "      <th></th>\n",
       "      <th></th>\n",
       "    </tr>\n",
       "  </thead>\n",
       "  <tbody>\n",
       "    <tr>\n",
       "      <th>admin.</th>\n",
       "      <td>4540</td>\n",
       "      <td>631</td>\n",
       "      <td>0.122027</td>\n",
       "    </tr>\n",
       "    <tr>\n",
       "      <th>blue-collar</th>\n",
       "      <td>9024</td>\n",
       "      <td>708</td>\n",
       "      <td>0.072750</td>\n",
       "    </tr>\n",
       "    <tr>\n",
       "      <th>entrepreneur</th>\n",
       "      <td>1364</td>\n",
       "      <td>123</td>\n",
       "      <td>0.082717</td>\n",
       "    </tr>\n",
       "    <tr>\n",
       "      <th>housemaid</th>\n",
       "      <td>1131</td>\n",
       "      <td>109</td>\n",
       "      <td>0.087903</td>\n",
       "    </tr>\n",
       "    <tr>\n",
       "      <th>management</th>\n",
       "      <td>8157</td>\n",
       "      <td>1301</td>\n",
       "      <td>0.137556</td>\n",
       "    </tr>\n",
       "    <tr>\n",
       "      <th>retired</th>\n",
       "      <td>1748</td>\n",
       "      <td>516</td>\n",
       "      <td>0.227915</td>\n",
       "    </tr>\n",
       "    <tr>\n",
       "      <th>self-employed</th>\n",
       "      <td>1392</td>\n",
       "      <td>187</td>\n",
       "      <td>0.118429</td>\n",
       "    </tr>\n",
       "    <tr>\n",
       "      <th>services</th>\n",
       "      <td>3785</td>\n",
       "      <td>369</td>\n",
       "      <td>0.088830</td>\n",
       "    </tr>\n",
       "    <tr>\n",
       "      <th>student</th>\n",
       "      <td>669</td>\n",
       "      <td>269</td>\n",
       "      <td>0.286780</td>\n",
       "    </tr>\n",
       "    <tr>\n",
       "      <th>technician</th>\n",
       "      <td>6757</td>\n",
       "      <td>840</td>\n",
       "      <td>0.110570</td>\n",
       "    </tr>\n",
       "    <tr>\n",
       "      <th>unemployed</th>\n",
       "      <td>1101</td>\n",
       "      <td>202</td>\n",
       "      <td>0.155027</td>\n",
       "    </tr>\n",
       "    <tr>\n",
       "      <th>unknown</th>\n",
       "      <td>254</td>\n",
       "      <td>34</td>\n",
       "      <td>0.118056</td>\n",
       "    </tr>\n",
       "  </tbody>\n",
       "</table>\n",
       "</div>"
      ],
      "text/plain": [
       "y                no   yes      rate\n",
       "job                                \n",
       "admin.         4540   631  0.122027\n",
       "blue-collar    9024   708  0.072750\n",
       "entrepreneur   1364   123  0.082717\n",
       "housemaid      1131   109  0.087903\n",
       "management     8157  1301  0.137556\n",
       "retired        1748   516  0.227915\n",
       "self-employed  1392   187  0.118429\n",
       "services       3785   369  0.088830\n",
       "student         669   269  0.286780\n",
       "technician     6757   840  0.110570\n",
       "unemployed     1101   202  0.155027\n",
       "unknown         254    34  0.118056"
      ]
     },
     "execution_count": 8,
     "metadata": {},
     "output_type": "execute_result"
    }
   ],
   "source": [
    "jobs= pd.crosstab(data['job'], data['y'])\n",
    "jobs['rate'] = jobs['yes'] / (jobs['yes'] + jobs['no'])\n",
    "jobs"
   ]
  },
  {
   "cell_type": "code",
   "execution_count": 9,
   "id": "80e30879-0f0e-480b-bc27-742b7f4b918a",
   "metadata": {},
   "outputs": [
    {
     "data": {
      "text/plain": [
       "<Axes: xlabel='job'>"
      ]
     },
     "execution_count": 9,
     "metadata": {},
     "output_type": "execute_result"
    },
    {
     "data": {
      "image/png": "[encoded data removed]",
      "text/plain": [
       "<Figure size 1000x600 with 1 Axes>"
      ]
     },
     "metadata": {},
     "output_type": "display_data"
    }
   ],
   "source": [
    "jobs.plot.bar(stacked=True, figsize=(10,6))"
   ]
  },
  {
   "cell_type": "code",
   "execution_count": 10,
   "id": "6fcda684-f930-4ede-ab1e-ae2179a3f127",
   "metadata": {},
   "outputs": [
    {
     "data": {
      "image/png": "[encoded data removed]",
      "text/plain": [
       "<Figure size 1000x600 with 1 Axes>"
      ]
     },
     "metadata": {},
     "output_type": "display_data"
    }
   ],
   "source": [
    "subscription_rate = data.groupby('job')['y'].value_counts(normalize=True).unstack()\n",
    "\n",
    "plt.figure(figsize=(10, 6))\n",
    "subscription_rate['yes'].plot(kind='bar', color='orange')\n",
    "plt.title('Subscription Rate per Job')\n",
    "plt.xlabel('Job')\n",
    "plt.ylabel('Subscription Rate (yes)')\n",
    "plt.xticks(rotation=45)\n",
    "plt.savefig('Images/job.png', dpi=300, bbox_inches='tight')\n",
    "plt.show()\n"
   ]
  },
  {
   "cell_type": "markdown",
   "id": "9c9595c3-4951-4ce1-a963-185b1b9dd950",
   "metadata": {},
   "source": [
    "from the job distribution against rate of acceptance  we can infer:\n",
    "* `Students` have the highest rate of suscription in the dataset of averagely `0.28` this may be fueled by the fact that students do not have many financial responsibilities.\n",
    "* Its followed by `Retired` people who have average of `0.23`, this may be due to the pension payments where they are willing to invest in bank term deposits to earn interests."
   ]
  },
  {
   "cell_type": "markdown",
   "id": "9acb845d-6650-4f3c-91cb-a174963301da",
   "metadata": {},
   "source": [
    "### 3.6 How marital status relates to accepting the bank deposit terms"
   ]
  },
  {
   "cell_type": "code",
   "execution_count": 11,
   "id": "d3f1fcc3-66c7-4f28-9510-7852c0e626b2",
   "metadata": {},
   "outputs": [
    {
     "data": {
      "text/html": [
       "<div>\n",
       "<style scoped>\n",
       "    .dataframe tbody tr th:only-of-type {\n",
       "        vertical-align: middle;\n",
       "    }\n",
       "\n",
       "    .dataframe tbody tr th {\n",
       "        vertical-align: top;\n",
       "    }\n",
       "\n",
       "    .dataframe thead th {\n",
       "        text-align: right;\n",
       "    }\n",
       "</style>\n",
       "<table border=\"1\" class=\"dataframe\">\n",
       "  <thead>\n",
       "    <tr style=\"text-align: right;\">\n",
       "      <th>y</th>\n",
       "      <th>no</th>\n",
       "      <th>yes</th>\n",
       "      <th>Rate</th>\n",
       "    </tr>\n",
       "    <tr>\n",
       "      <th>marital</th>\n",
       "      <th></th>\n",
       "      <th></th>\n",
       "      <th></th>\n",
       "    </tr>\n",
       "  </thead>\n",
       "  <tbody>\n",
       "    <tr>\n",
       "      <th>divorced</th>\n",
       "      <td>4585</td>\n",
       "      <td>622</td>\n",
       "      <td>0.119455</td>\n",
       "    </tr>\n",
       "    <tr>\n",
       "      <th>married</th>\n",
       "      <td>24459</td>\n",
       "      <td>2755</td>\n",
       "      <td>0.101235</td>\n",
       "    </tr>\n",
       "    <tr>\n",
       "      <th>single</th>\n",
       "      <td>10878</td>\n",
       "      <td>1912</td>\n",
       "      <td>0.149492</td>\n",
       "    </tr>\n",
       "  </tbody>\n",
       "</table>\n",
       "</div>"
      ],
      "text/plain": [
       "y            no   yes      Rate\n",
       "marital                        \n",
       "divorced   4585   622  0.119455\n",
       "married   24459  2755  0.101235\n",
       "single    10878  1912  0.149492"
      ]
     },
     "execution_count": 11,
     "metadata": {},
     "output_type": "execute_result"
    }
   ],
   "source": [
    "marital = pd.crosstab(data['marital'], data['y'])\n",
    "marital['Rate'] = marital['yes']/(marital['yes'] + marital['no'])\n",
    "marital"
   ]
  },
  {
   "cell_type": "code",
   "execution_count": 12,
   "id": "8e9c09dd-fa0b-4a5e-b97c-734e7575610e",
   "metadata": {},
   "outputs": [
    {
     "data": {
      "image/png": "[encoded data removed]",
      "text/plain": [
       "<Figure size 1000x600 with 1 Axes>"
      ]
     },
     "metadata": {},
     "output_type": "display_data"
    }
   ],
   "source": [
    "marital.plot.bar(stacked=True, figsize=(10, 6))\n",
    "plt.savefig('Images/marital.png', dpi=300, bbox_inches='tight')"
   ]
  },
  {
   "cell_type": "markdown",
   "id": "2bd8b72b-3956-47f9-a8cb-88d22cfb2baa",
   "metadata": {},
   "source": [
    "Drom the visualization we infer that:\n",
    "* `Single` individuals have the highest rate on subscription to the term deposits. This may be due to few financial responsibilities as well as saving for their future or invetsments\n",
    "* this is followed by `divorced`, then `married` people, this could be due to increasing levels of financial responsibilities or demands."
   ]
  },
  {
   "cell_type": "markdown",
   "id": "31733295-35cd-41c4-9182-df0c37df71e6",
   "metadata": {},
   "source": [
    "### 3.7 How outcome of former campaigns outcome relates to the subscription rate"
   ]
  },
  {
   "cell_type": "code",
   "execution_count": 13,
   "id": "32a4456e-b26a-4240-a6a7-29658634663b",
   "metadata": {},
   "outputs": [
    {
     "data": {
      "text/html": [
       "<div>\n",
       "<style scoped>\n",
       "    .dataframe tbody tr th:only-of-type {\n",
       "        vertical-align: middle;\n",
       "    }\n",
       "\n",
       "    .dataframe tbody tr th {\n",
       "        vertical-align: top;\n",
       "    }\n",
       "\n",
       "    .dataframe thead th {\n",
       "        text-align: right;\n",
       "    }\n",
       "</style>\n",
       "<table border=\"1\" class=\"dataframe\">\n",
       "  <thead>\n",
       "    <tr style=\"text-align: right;\">\n",
       "      <th>y</th>\n",
       "      <th>no</th>\n",
       "      <th>yes</th>\n",
       "      <th>rate</th>\n",
       "    </tr>\n",
       "    <tr>\n",
       "      <th>poutcome</th>\n",
       "      <th></th>\n",
       "      <th></th>\n",
       "      <th></th>\n",
       "    </tr>\n",
       "  </thead>\n",
       "  <tbody>\n",
       "    <tr>\n",
       "      <th>failure</th>\n",
       "      <td>4283</td>\n",
       "      <td>618</td>\n",
       "      <td>0.126097</td>\n",
       "    </tr>\n",
       "    <tr>\n",
       "      <th>other</th>\n",
       "      <td>1533</td>\n",
       "      <td>307</td>\n",
       "      <td>0.166848</td>\n",
       "    </tr>\n",
       "    <tr>\n",
       "      <th>success</th>\n",
       "      <td>533</td>\n",
       "      <td>978</td>\n",
       "      <td>0.647253</td>\n",
       "    </tr>\n",
       "    <tr>\n",
       "      <th>unknown</th>\n",
       "      <td>33573</td>\n",
       "      <td>3386</td>\n",
       "      <td>0.091615</td>\n",
       "    </tr>\n",
       "  </tbody>\n",
       "</table>\n",
       "</div>"
      ],
      "text/plain": [
       "y            no   yes      rate\n",
       "poutcome                       \n",
       "failure    4283   618  0.126097\n",
       "other      1533   307  0.166848\n",
       "success     533   978  0.647253\n",
       "unknown   33573  3386  0.091615"
      ]
     },
     "execution_count": 13,
     "metadata": {},
     "output_type": "execute_result"
    }
   ],
   "source": [
    "poutcome = pd.crosstab(data['poutcome'], data['y'])\n",
    "poutcome['rate'] = poutcome['yes'] / (poutcome['yes'] + poutcome['no'])\n",
    "poutcome"
   ]
  },
  {
   "cell_type": "code",
   "execution_count": 14,
   "id": "52c3369b-edde-47af-a91e-36db58a39492",
   "metadata": {},
   "outputs": [
    {
     "data": {
      "image/png": "[encoded data removed]",
      "text/plain": [
       "<Figure size 1000x600 with 1 Axes>"
      ]
     },
     "metadata": {},
     "output_type": "display_data"
    }
   ],
   "source": [
    "poutcome.plot.bar(stacked=True, figsize=(10,6))\n",
    "plt.savefig('Images/campaign.png', dpi=300, bbox_inches='tight')"
   ]
  },
  {
   "cell_type": "markdown",
   "id": "abf3f0f4-a3d9-48da-be26-be1aec631350",
   "metadata": {},
   "source": [
    "From this analysis, we observe that:\n",
    "* If a customer has previously subscribed to the bank term deposit, they have a high probability of accepting a new deposit terms. This couls be because they already know the benefits and are willing to keep investing. A small number of people in this category were involved but showed a high subscription rate.\n",
    "* Customers who have not previously subscribed or whose status is unknown have a low subscription rate. The bank should focus on explaining the deposit terms to win customers."
   ]
  },
  {
   "cell_type": "markdown",
   "id": "e14eefd5-ac41-4de1-9d49-e777eda15841",
   "metadata": {},
   "source": [
    "### 3.8 How the Number of previous campaigns relate to rate of subscription"
   ]
  },
  {
   "cell_type": "code",
   "execution_count": 15,
   "id": "5ad8e12e-887e-4437-9c9d-d12784c00c6f",
   "metadata": {},
   "outputs": [
    {
     "data": {
      "text/html": [
       "<div>\n",
       "<style scoped>\n",
       "    .dataframe tbody tr th:only-of-type {\n",
       "        vertical-align: middle;\n",
       "    }\n",
       "\n",
       "    .dataframe tbody tr th {\n",
       "        vertical-align: top;\n",
       "    }\n",
       "\n",
       "    .dataframe thead th {\n",
       "        text-align: right;\n",
       "    }\n",
       "</style>\n",
       "<table border=\"1\" class=\"dataframe\">\n",
       "  <thead>\n",
       "    <tr style=\"text-align: right;\">\n",
       "      <th>y</th>\n",
       "      <th>no</th>\n",
       "      <th>yes</th>\n",
       "    </tr>\n",
       "    <tr>\n",
       "      <th>campaign</th>\n",
       "      <th></th>\n",
       "      <th></th>\n",
       "    </tr>\n",
       "  </thead>\n",
       "  <tbody>\n",
       "    <tr>\n",
       "      <th>1</th>\n",
       "      <td>14983</td>\n",
       "      <td>2561</td>\n",
       "    </tr>\n",
       "    <tr>\n",
       "      <th>2</th>\n",
       "      <td>11104</td>\n",
       "      <td>1401</td>\n",
       "    </tr>\n",
       "    <tr>\n",
       "      <th>3</th>\n",
       "      <td>4903</td>\n",
       "      <td>618</td>\n",
       "    </tr>\n",
       "    <tr>\n",
       "      <th>4</th>\n",
       "      <td>3205</td>\n",
       "      <td>317</td>\n",
       "    </tr>\n",
       "    <tr>\n",
       "      <th>5</th>\n",
       "      <td>1625</td>\n",
       "      <td>139</td>\n",
       "    </tr>\n",
       "    <tr>\n",
       "      <th>6</th>\n",
       "      <td>1199</td>\n",
       "      <td>92</td>\n",
       "    </tr>\n",
       "    <tr>\n",
       "      <th>7</th>\n",
       "      <td>688</td>\n",
       "      <td>47</td>\n",
       "    </tr>\n",
       "    <tr>\n",
       "      <th>8</th>\n",
       "      <td>508</td>\n",
       "      <td>32</td>\n",
       "    </tr>\n",
       "    <tr>\n",
       "      <th>9</th>\n",
       "      <td>306</td>\n",
       "      <td>21</td>\n",
       "    </tr>\n",
       "    <tr>\n",
       "      <th>10</th>\n",
       "      <td>252</td>\n",
       "      <td>14</td>\n",
       "    </tr>\n",
       "    <tr>\n",
       "      <th>11</th>\n",
       "      <td>185</td>\n",
       "      <td>16</td>\n",
       "    </tr>\n",
       "    <tr>\n",
       "      <th>12</th>\n",
       "      <td>151</td>\n",
       "      <td>4</td>\n",
       "    </tr>\n",
       "    <tr>\n",
       "      <th>13</th>\n",
       "      <td>127</td>\n",
       "      <td>6</td>\n",
       "    </tr>\n",
       "    <tr>\n",
       "      <th>14</th>\n",
       "      <td>89</td>\n",
       "      <td>4</td>\n",
       "    </tr>\n",
       "    <tr>\n",
       "      <th>15</th>\n",
       "      <td>80</td>\n",
       "      <td>4</td>\n",
       "    </tr>\n",
       "    <tr>\n",
       "      <th>16</th>\n",
       "      <td>77</td>\n",
       "      <td>2</td>\n",
       "    </tr>\n",
       "    <tr>\n",
       "      <th>17</th>\n",
       "      <td>63</td>\n",
       "      <td>6</td>\n",
       "    </tr>\n",
       "    <tr>\n",
       "      <th>18</th>\n",
       "      <td>51</td>\n",
       "      <td>0</td>\n",
       "    </tr>\n",
       "    <tr>\n",
       "      <th>19</th>\n",
       "      <td>44</td>\n",
       "      <td>0</td>\n",
       "    </tr>\n",
       "    <tr>\n",
       "      <th>20</th>\n",
       "      <td>42</td>\n",
       "      <td>1</td>\n",
       "    </tr>\n",
       "    <tr>\n",
       "      <th>21</th>\n",
       "      <td>34</td>\n",
       "      <td>1</td>\n",
       "    </tr>\n",
       "    <tr>\n",
       "      <th>22</th>\n",
       "      <td>23</td>\n",
       "      <td>0</td>\n",
       "    </tr>\n",
       "    <tr>\n",
       "      <th>23</th>\n",
       "      <td>22</td>\n",
       "      <td>0</td>\n",
       "    </tr>\n",
       "    <tr>\n",
       "      <th>24</th>\n",
       "      <td>19</td>\n",
       "      <td>1</td>\n",
       "    </tr>\n",
       "    <tr>\n",
       "      <th>25</th>\n",
       "      <td>22</td>\n",
       "      <td>0</td>\n",
       "    </tr>\n",
       "    <tr>\n",
       "      <th>26</th>\n",
       "      <td>13</td>\n",
       "      <td>0</td>\n",
       "    </tr>\n",
       "    <tr>\n",
       "      <th>27</th>\n",
       "      <td>10</td>\n",
       "      <td>0</td>\n",
       "    </tr>\n",
       "    <tr>\n",
       "      <th>28</th>\n",
       "      <td>16</td>\n",
       "      <td>0</td>\n",
       "    </tr>\n",
       "    <tr>\n",
       "      <th>29</th>\n",
       "      <td>15</td>\n",
       "      <td>1</td>\n",
       "    </tr>\n",
       "    <tr>\n",
       "      <th>30</th>\n",
       "      <td>8</td>\n",
       "      <td>0</td>\n",
       "    </tr>\n",
       "    <tr>\n",
       "      <th>31</th>\n",
       "      <td>12</td>\n",
       "      <td>0</td>\n",
       "    </tr>\n",
       "    <tr>\n",
       "      <th>32</th>\n",
       "      <td>8</td>\n",
       "      <td>1</td>\n",
       "    </tr>\n",
       "    <tr>\n",
       "      <th>33</th>\n",
       "      <td>6</td>\n",
       "      <td>0</td>\n",
       "    </tr>\n",
       "    <tr>\n",
       "      <th>34</th>\n",
       "      <td>5</td>\n",
       "      <td>0</td>\n",
       "    </tr>\n",
       "    <tr>\n",
       "      <th>35</th>\n",
       "      <td>4</td>\n",
       "      <td>0</td>\n",
       "    </tr>\n",
       "    <tr>\n",
       "      <th>36</th>\n",
       "      <td>4</td>\n",
       "      <td>0</td>\n",
       "    </tr>\n",
       "    <tr>\n",
       "      <th>37</th>\n",
       "      <td>2</td>\n",
       "      <td>0</td>\n",
       "    </tr>\n",
       "    <tr>\n",
       "      <th>38</th>\n",
       "      <td>3</td>\n",
       "      <td>0</td>\n",
       "    </tr>\n",
       "    <tr>\n",
       "      <th>39</th>\n",
       "      <td>1</td>\n",
       "      <td>0</td>\n",
       "    </tr>\n",
       "    <tr>\n",
       "      <th>41</th>\n",
       "      <td>2</td>\n",
       "      <td>0</td>\n",
       "    </tr>\n",
       "    <tr>\n",
       "      <th>43</th>\n",
       "      <td>3</td>\n",
       "      <td>0</td>\n",
       "    </tr>\n",
       "    <tr>\n",
       "      <th>44</th>\n",
       "      <td>1</td>\n",
       "      <td>0</td>\n",
       "    </tr>\n",
       "    <tr>\n",
       "      <th>46</th>\n",
       "      <td>1</td>\n",
       "      <td>0</td>\n",
       "    </tr>\n",
       "    <tr>\n",
       "      <th>50</th>\n",
       "      <td>2</td>\n",
       "      <td>0</td>\n",
       "    </tr>\n",
       "    <tr>\n",
       "      <th>51</th>\n",
       "      <td>1</td>\n",
       "      <td>0</td>\n",
       "    </tr>\n",
       "    <tr>\n",
       "      <th>55</th>\n",
       "      <td>1</td>\n",
       "      <td>0</td>\n",
       "    </tr>\n",
       "    <tr>\n",
       "      <th>58</th>\n",
       "      <td>1</td>\n",
       "      <td>0</td>\n",
       "    </tr>\n",
       "    <tr>\n",
       "      <th>63</th>\n",
       "      <td>1</td>\n",
       "      <td>0</td>\n",
       "    </tr>\n",
       "  </tbody>\n",
       "</table>\n",
       "</div>"
      ],
      "text/plain": [
       "y            no   yes\n",
       "campaign             \n",
       "1         14983  2561\n",
       "2         11104  1401\n",
       "3          4903   618\n",
       "4          3205   317\n",
       "5          1625   139\n",
       "6          1199    92\n",
       "7           688    47\n",
       "8           508    32\n",
       "9           306    21\n",
       "10          252    14\n",
       "11          185    16\n",
       "12          151     4\n",
       "13          127     6\n",
       "14           89     4\n",
       "15           80     4\n",
       "16           77     2\n",
       "17           63     6\n",
       "18           51     0\n",
       "19           44     0\n",
       "20           42     1\n",
       "21           34     1\n",
       "22           23     0\n",
       "23           22     0\n",
       "24           19     1\n",
       "25           22     0\n",
       "26           13     0\n",
       "27           10     0\n",
       "28           16     0\n",
       "29           15     1\n",
       "30            8     0\n",
       "31           12     0\n",
       "32            8     1\n",
       "33            6     0\n",
       "34            5     0\n",
       "35            4     0\n",
       "36            4     0\n",
       "37            2     0\n",
       "38            3     0\n",
       "39            1     0\n",
       "41            2     0\n",
       "43            3     0\n",
       "44            1     0\n",
       "46            1     0\n",
       "50            2     0\n",
       "51            1     0\n",
       "55            1     0\n",
       "58            1     0\n",
       "63            1     0"
      ]
     },
     "execution_count": 15,
     "metadata": {},
     "output_type": "execute_result"
    }
   ],
   "source": [
    "campaigns = pd.crosstab(data['campaign'], data['y'])\n",
    "campaigns"
   ]
  },
  {
   "cell_type": "markdown",
   "id": "df45f5cb-057a-4bf3-9cac-ab9bca71f1cc",
   "metadata": {},
   "source": [
    "From the data, we infer that:\n",
    "* Involving a customer many times does not lead to the customer accepting the bank terms\n",
    "* The bank should balance between 1- 5 times which shows a high acceptance rate to avoid over-nagging the customer"
   ]
  },
  {
   "cell_type": "markdown",
   "id": "8f73c171-1caf-4779-8826-47814c2851aa",
   "metadata": {},
   "source": [
    "### 3.9 Does having a bank loan or defaulted loan affect acceptance rate?"
   ]
  },
  {
   "cell_type": "code",
   "execution_count": 16,
   "id": "08ed05c2-b295-4b8b-99d4-23a35787fa7e",
   "metadata": {},
   "outputs": [
    {
     "data": {
      "text/html": [
       "<div>\n",
       "<style scoped>\n",
       "    .dataframe tbody tr th:only-of-type {\n",
       "        vertical-align: middle;\n",
       "    }\n",
       "\n",
       "    .dataframe tbody tr th {\n",
       "        vertical-align: top;\n",
       "    }\n",
       "\n",
       "    .dataframe thead th {\n",
       "        text-align: right;\n",
       "    }\n",
       "</style>\n",
       "<table border=\"1\" class=\"dataframe\">\n",
       "  <thead>\n",
       "    <tr style=\"text-align: right;\">\n",
       "      <th>y</th>\n",
       "      <th>no</th>\n",
       "      <th>yes</th>\n",
       "      <th>acceptance_rate</th>\n",
       "    </tr>\n",
       "    <tr>\n",
       "      <th>default</th>\n",
       "      <th></th>\n",
       "      <th></th>\n",
       "      <th></th>\n",
       "    </tr>\n",
       "  </thead>\n",
       "  <tbody>\n",
       "    <tr>\n",
       "      <th>no</th>\n",
       "      <td>39159</td>\n",
       "      <td>5237</td>\n",
       "      <td>0.117961</td>\n",
       "    </tr>\n",
       "    <tr>\n",
       "      <th>yes</th>\n",
       "      <td>763</td>\n",
       "      <td>52</td>\n",
       "      <td>0.063804</td>\n",
       "    </tr>\n",
       "  </tbody>\n",
       "</table>\n",
       "</div>"
      ],
      "text/plain": [
       "y           no   yes  acceptance_rate\n",
       "default                              \n",
       "no       39159  5237         0.117961\n",
       "yes        763    52         0.063804"
      ]
     },
     "execution_count": 16,
     "metadata": {},
     "output_type": "execute_result"
    }
   ],
   "source": [
    "default = pd.crosstab(data['default'], data['y'])\n",
    "\n",
    "# Calculate the acceptance rate (the percentage of \"yes\" subscriptions)\n",
    "default['acceptance_rate'] = default['yes'] / (default['yes'] + default['no'])\n",
    "\n",
    "default"
   ]
  },
  {
   "cell_type": "markdown",
   "id": "ed3b8f87-d771-4503-84b6-aaf972254a94",
   "metadata": {},
   "source": [
    "The data shows that having customers who have defaulted bank loan do not easily subscribe to bank deposit term. This is understandable because defaulting means the client could be going through financial challenges."
   ]
  },
  {
   "cell_type": "code",
   "execution_count": 17,
   "id": "8e1be90e-e7c1-459d-ac67-be3002c9bca4",
   "metadata": {},
   "outputs": [
    {
     "data": {
      "text/html": [
       "<div>\n",
       "<style scoped>\n",
       "    .dataframe tbody tr th:only-of-type {\n",
       "        vertical-align: middle;\n",
       "    }\n",
       "\n",
       "    .dataframe tbody tr th {\n",
       "        vertical-align: top;\n",
       "    }\n",
       "\n",
       "    .dataframe thead th {\n",
       "        text-align: right;\n",
       "    }\n",
       "</style>\n",
       "<table border=\"1\" class=\"dataframe\">\n",
       "  <thead>\n",
       "    <tr style=\"text-align: right;\">\n",
       "      <th>y</th>\n",
       "      <th>no</th>\n",
       "      <th>yes</th>\n",
       "      <th>acceptance_rate</th>\n",
       "    </tr>\n",
       "    <tr>\n",
       "      <th>loan</th>\n",
       "      <th></th>\n",
       "      <th></th>\n",
       "      <th></th>\n",
       "    </tr>\n",
       "  </thead>\n",
       "  <tbody>\n",
       "    <tr>\n",
       "      <th>no</th>\n",
       "      <td>33162</td>\n",
       "      <td>4805</td>\n",
       "      <td>0.126557</td>\n",
       "    </tr>\n",
       "    <tr>\n",
       "      <th>yes</th>\n",
       "      <td>6760</td>\n",
       "      <td>484</td>\n",
       "      <td>0.066814</td>\n",
       "    </tr>\n",
       "  </tbody>\n",
       "</table>\n",
       "</div>"
      ],
      "text/plain": [
       "y        no   yes  acceptance_rate\n",
       "loan                              \n",
       "no    33162  4805         0.126557\n",
       "yes    6760   484         0.066814"
      ]
     },
     "execution_count": 17,
     "metadata": {},
     "output_type": "execute_result"
    }
   ],
   "source": [
    "loan = pd.crosstab(data.loan, data.y)\n",
    "\n",
    "# Calculate the acceptance rate (the percentage of \"yes\" subscriptions)\n",
    "loan['acceptance_rate'] = loan['yes'] / (loan['yes'] + loan['no'])\n",
    "\n",
    "loan"
   ]
  },
  {
   "cell_type": "markdown",
   "id": "f49be69c-11cc-43b0-a4da-b178046d2204",
   "metadata": {},
   "source": [
    "Its also clear that clients with an existsing bank loan do not accept term deposits easily. This could be due to challenges in settling the loans among other challenges."
   ]
  },
  {
   "cell_type": "markdown",
   "id": "1e563d94-b216-4d0d-80ac-50d5842c6853",
   "metadata": {},
   "source": [
    "### 3. 10 Yealy balance effect on subscription "
   ]
  },
  {
   "cell_type": "markdown",
   "id": "8a5997fa-1a88-4af6-ad0f-1eaff463e586",
   "metadata": {},
   "source": [
    "check the minimum and maximum balances"
   ]
  },
  {
   "cell_type": "code",
   "execution_count": 18,
   "id": "5acc3b8f-4cb8-40ae-af4d-93e4fc403ce6",
   "metadata": {},
   "outputs": [
    {
     "name": "stdout",
     "output_type": "stream",
     "text": [
      " minimum balance is -8019 and maximum balance is 102127\n"
     ]
    }
   ],
   "source": [
    "min_bal = data['balance'].min()\n",
    "max_bal = data['balance'].max()\n",
    "\n",
    "print(f''' minimum balance is {min_bal} and maximum balance is {max_bal}''')"
   ]
  },
  {
   "cell_type": "markdown",
   "id": "c4316b4f-ac1f-48ed-9962-f19a737e5959",
   "metadata": {},
   "source": [
    "create balance classes to check the rate of sunscription per class"
   ]
  },
  {
   "cell_type": "code",
   "execution_count": 19,
   "id": "4ae48d27-c960-4e8c-978d-19eddd1f2c4c",
   "metadata": {},
   "outputs": [
    {
     "data": {
      "text/html": [
       "<div>\n",
       "<style scoped>\n",
       "    .dataframe tbody tr th:only-of-type {\n",
       "        vertical-align: middle;\n",
       "    }\n",
       "\n",
       "    .dataframe tbody tr th {\n",
       "        vertical-align: top;\n",
       "    }\n",
       "\n",
       "    .dataframe thead th {\n",
       "        text-align: right;\n",
       "    }\n",
       "</style>\n",
       "<table border=\"1\" class=\"dataframe\">\n",
       "  <thead>\n",
       "    <tr style=\"text-align: right;\">\n",
       "      <th></th>\n",
       "      <th>balance</th>\n",
       "      <th>balance_class</th>\n",
       "    </tr>\n",
       "  </thead>\n",
       "  <tbody>\n",
       "    <tr>\n",
       "      <th>0</th>\n",
       "      <td>2143</td>\n",
       "      <td>0-10000</td>\n",
       "    </tr>\n",
       "    <tr>\n",
       "      <th>1</th>\n",
       "      <td>29</td>\n",
       "      <td>0-10000</td>\n",
       "    </tr>\n",
       "    <tr>\n",
       "      <th>2</th>\n",
       "      <td>2</td>\n",
       "      <td>0-10000</td>\n",
       "    </tr>\n",
       "    <tr>\n",
       "      <th>3</th>\n",
       "      <td>1506</td>\n",
       "      <td>0-10000</td>\n",
       "    </tr>\n",
       "    <tr>\n",
       "      <th>4</th>\n",
       "      <td>1</td>\n",
       "      <td>0-10000</td>\n",
       "    </tr>\n",
       "  </tbody>\n",
       "</table>\n",
       "</div>"
      ],
      "text/plain": [
       "   balance balance_class\n",
       "0     2143       0-10000\n",
       "1       29       0-10000\n",
       "2        2       0-10000\n",
       "3     1506       0-10000\n",
       "4        1       0-10000"
      ]
     },
     "execution_count": 19,
     "metadata": {},
     "output_type": "execute_result"
    }
   ],
   "source": [
    "# Define balance bins\n",
    "bins = list(range(-10000, int(max_bal), 10000))\n",
    "labels = [f\"{bins[i]}-{bins[i+1]}\" for i in range(len(bins)-1)]\n",
    "\n",
    "# Create balance classes\n",
    "data1 = data.copy()\n",
    "data1['balance_class'] = pd.cut(data1['balance'], bins=bins, labels=labels, include_lowest=True)\n",
    "\n",
    "data1[['balance', 'balance_class']].head()"
   ]
  },
  {
   "cell_type": "markdown",
   "id": "8fda3e2c-e33e-4c19-901d-01f989327284",
   "metadata": {},
   "source": [
    "calculate the acceptance rate per balance class"
   ]
  },
  {
   "cell_type": "code",
   "execution_count": 20,
   "id": "7cef2edd-4fbe-44f3-a98c-7304bd107967",
   "metadata": {},
   "outputs": [
    {
     "data": {
      "text/html": [
       "<div>\n",
       "<style scoped>\n",
       "    .dataframe tbody tr th:only-of-type {\n",
       "        vertical-align: middle;\n",
       "    }\n",
       "\n",
       "    .dataframe tbody tr th {\n",
       "        vertical-align: top;\n",
       "    }\n",
       "\n",
       "    .dataframe thead th {\n",
       "        text-align: right;\n",
       "    }\n",
       "</style>\n",
       "<table border=\"1\" class=\"dataframe\">\n",
       "  <thead>\n",
       "    <tr style=\"text-align: right;\">\n",
       "      <th>y</th>\n",
       "      <th>no</th>\n",
       "      <th>yes</th>\n",
       "    </tr>\n",
       "    <tr>\n",
       "      <th>balance_class</th>\n",
       "      <th></th>\n",
       "      <th></th>\n",
       "    </tr>\n",
       "  </thead>\n",
       "  <tbody>\n",
       "    <tr>\n",
       "      <th>-10000-0</th>\n",
       "      <td>93.104396</td>\n",
       "      <td>6.895604</td>\n",
       "    </tr>\n",
       "    <tr>\n",
       "      <th>0-10000</th>\n",
       "      <td>87.461592</td>\n",
       "      <td>12.538408</td>\n",
       "    </tr>\n",
       "    <tr>\n",
       "      <th>10000-20000</th>\n",
       "      <td>83.333333</td>\n",
       "      <td>16.666667</td>\n",
       "    </tr>\n",
       "    <tr>\n",
       "      <th>20000-30000</th>\n",
       "      <td>85.815603</td>\n",
       "      <td>14.184397</td>\n",
       "    </tr>\n",
       "    <tr>\n",
       "      <th>30000-40000</th>\n",
       "      <td>83.333333</td>\n",
       "      <td>16.666667</td>\n",
       "    </tr>\n",
       "    <tr>\n",
       "      <th>40000-50000</th>\n",
       "      <td>90.000000</td>\n",
       "      <td>10.000000</td>\n",
       "    </tr>\n",
       "    <tr>\n",
       "      <th>50000-60000</th>\n",
       "      <td>80.000000</td>\n",
       "      <td>20.000000</td>\n",
       "    </tr>\n",
       "    <tr>\n",
       "      <th>60000-70000</th>\n",
       "      <td>100.000000</td>\n",
       "      <td>0.000000</td>\n",
       "    </tr>\n",
       "    <tr>\n",
       "      <th>70000-80000</th>\n",
       "      <td>100.000000</td>\n",
       "      <td>0.000000</td>\n",
       "    </tr>\n",
       "    <tr>\n",
       "      <th>80000-90000</th>\n",
       "      <td>0.000000</td>\n",
       "      <td>100.000000</td>\n",
       "    </tr>\n",
       "    <tr>\n",
       "      <th>90000-100000</th>\n",
       "      <td>100.000000</td>\n",
       "      <td>0.000000</td>\n",
       "    </tr>\n",
       "  </tbody>\n",
       "</table>\n",
       "</div>"
      ],
      "text/plain": [
       "y                      no         yes\n",
       "balance_class                        \n",
       "-10000-0        93.104396    6.895604\n",
       "0-10000         87.461592   12.538408\n",
       "10000-20000     83.333333   16.666667\n",
       "20000-30000     85.815603   14.184397\n",
       "30000-40000     83.333333   16.666667\n",
       "40000-50000     90.000000   10.000000\n",
       "50000-60000     80.000000   20.000000\n",
       "60000-70000    100.000000    0.000000\n",
       "70000-80000    100.000000    0.000000\n",
       "80000-90000      0.000000  100.000000\n",
       "90000-100000   100.000000    0.000000"
      ]
     },
     "execution_count": 20,
     "metadata": {},
     "output_type": "execute_result"
    }
   ],
   "source": [
    "# Cross-tabulation of acceptance rates by balance class\n",
    "balance_acceptance_ct = pd.crosstab(data1['balance_class'], data1['y'], normalize='index') * 100\n",
    "\n",
    "# Rename columns for better understanding\n",
    "#balance_acceptance_ct.columns = ['No Subscription Rate (%)', 'Subscription Rate (%)']\n",
    "\n",
    "balance_acceptance_ct\n"
   ]
  },
  {
   "cell_type": "code",
   "execution_count": 21,
   "id": "2954c48a-15be-43fe-b49a-bb79d425e554",
   "metadata": {},
   "outputs": [
    {
     "data": {
      "text/plain": [
       "<Axes: xlabel='balance_class'>"
      ]
     },
     "execution_count": 21,
     "metadata": {},
     "output_type": "execute_result"
    },
    {
     "data": {
      "image/png": "[encoded data removed]",
      "text/plain": [
       "<Figure size 1000x600 with 1 Axes>"
      ]
     },
     "metadata": {},
     "output_type": "display_data"
    }
   ],
   "source": [
    "balance_acceptance_ct.plot.bar(stacked=True, figsize=(10, 6))"
   ]
  },
  {
   "cell_type": "markdown",
   "id": "c7840d9d-4cb3-4de2-ba72-e38b6630e52f",
   "metadata": {},
   "source": [
    "the yearly balances affect the results of bank term acceptance rate\n",
    "* Less or negative balances individuals have low acceptance rate\n",
    "* `60000-80000` and `90000-100000` yearly balanced class do not accept the bank offers.\n",
    "* The class of `80000-90000` class easily accept the bank deposits- all the individuals in the class from the dataset accepted the offer."
   ]
  },
  {
   "cell_type": "markdown",
   "id": "f43809ba-4700-454d-aa42-48d1a4c08f1c",
   "metadata": {},
   "source": [
    "## 4 Target and features splitting"
   ]
  },
  {
   "cell_type": "markdown",
   "id": "bbd6cd38-2730-4b5c-9d12-2612ea408fb7",
   "metadata": {},
   "source": [
    "### 4.1 features and target"
   ]
  },
  {
   "cell_type": "code",
   "execution_count": 22,
   "id": "a5fd5b03-6f41-4e05-b245-4e18cbd9258d",
   "metadata": {},
   "outputs": [],
   "source": [
    "# Define features and target\n",
    "X = data.drop('y', axis=1)\n",
    "y = data['y']"
   ]
  },
  {
   "cell_type": "markdown",
   "id": "9203b435-dac9-4769-b9a2-37fa8e93b965",
   "metadata": {},
   "source": [
    "### 4.2 test-train split"
   ]
  },
  {
   "cell_type": "code",
   "execution_count": 23,
   "id": "878e6b4a-d52d-4481-b084-e844a79916a1",
   "metadata": {},
   "outputs": [],
   "source": [
    "# Split the data with the test size of 20% and a random state of 42 using the train_test_split module \n",
    "X_train, X_test, y_train, y_test = train_test_split(X, y, test_size=0.2, random_state=42)"
   ]
  },
  {
   "cell_type": "markdown",
   "id": "e949267d-26b3-4aab-8e02-26a7cf7963f4",
   "metadata": {},
   "source": [
    "### 4.3 One Hot Encoding"
   ]
  },
  {
   "cell_type": "code",
   "execution_count": 24,
   "id": "a4ed8bfe-20c1-49ab-9c5f-5806f0b2a16a",
   "metadata": {},
   "outputs": [],
   "source": [
    "# Encoding categorical variables\n",
    "categorical_cols = ['job', 'marital', 'default', 'housing', 'loan', 'poutcome']\n",
    "\n",
    "X_train_encoded = pd.get_dummies(X_train, columns=categorical_cols, drop_first=True)\n",
    "X_test_encoded = pd.get_dummies(X_test, columns=categorical_cols, drop_first=True)"
   ]
  },
  {
   "cell_type": "markdown",
   "id": "323fdc1f-1b72-40c1-bc79-8c89ca778e23",
   "metadata": {},
   "source": [
    "### 4.4 Apply smote to handle the class imbalance\n",
    "\n",
    "SMOTE is an oversampling technique where the synthetic samples are generated for the minority class"
   ]
  },
  {
   "cell_type": "code",
   "execution_count": 25,
   "id": "6cdbdfca-bf50-4cd9-8303-3050a5a0ecd3",
   "metadata": {},
   "outputs": [],
   "source": [
    "# Apply SMOTE for class imbalance\n",
    "\n",
    "smote = SMOTE(random_state=42)\n",
    "X_train_resampled, y_train_resampled = smote.fit_resample(X_train_encoded, y_train)"
   ]
  },
  {
   "cell_type": "markdown",
   "id": "453778d2-e53b-4697-9b63-f5a949cd182a",
   "metadata": {},
   "source": [
    "### 4.5 Scaling Numerical Features"
   ]
  },
  {
   "cell_type": "code",
   "execution_count": 26,
   "id": "b1e0822e-2094-4f9c-9b71-22a059324563",
   "metadata": {},
   "outputs": [],
   "source": [
    "# Scaling numerical features\n",
    "scaler = StandardScaler()\n",
    "X_train_scaled = scaler.fit_transform(X_train_resampled)\n",
    "X_test_scaled = scaler.transform(X_test_encoded)"
   ]
  },
  {
   "cell_type": "markdown",
   "id": "fe410134-af19-48d3-8b51-80247791b383",
   "metadata": {},
   "source": [
    "## 5 Modelling"
   ]
  },
  {
   "cell_type": "markdown",
   "id": "61791ebb-0780-4951-bbfd-708402ab9cd7",
   "metadata": {},
   "source": [
    "## 5.1 Baseline Model - Logistic Regression"
   ]
  },
  {
   "cell_type": "markdown",
   "id": "9c529184-c1ec-408a-8f11-5216e9f444c7",
   "metadata": {},
   "source": [
    "Logistic Regression is a good starting point as a baseline model due to its simplicity and interpretability."
   ]
  },
  {
   "cell_type": "code",
   "execution_count": 27,
   "id": "1a201634-a1a0-41fc-b4cf-db610c120008",
   "metadata": {},
   "outputs": [],
   "source": [
    "# Initialize and train the Logistic Regression model\n",
    "log_reg = LogisticRegression(random_state=42)\n",
    "log_reg.fit(X_train_scaled, y_train_resampled)\n",
    "\n",
    "# Make predictions\n",
    "y_pred_log_reg = log_reg.predict(X_test_scaled)"
   ]
  },
  {
   "cell_type": "markdown",
   "id": "363d43db-7fb2-4344-815d-5685f7a0a9c2",
   "metadata": {},
   "source": [
    "### 5.1.1 Baseline Model evaluation"
   ]
  },
  {
   "cell_type": "code",
   "execution_count": 28,
   "id": "31c9eb8c-00f5-499d-8535-ceb616a57f8e",
   "metadata": {},
   "outputs": [
    {
     "name": "stdout",
     "output_type": "stream",
     "text": [
      "Logistic Regression Classification Report:\n",
      "              precision    recall  f1-score   support\n",
      "\n",
      "          no       0.91      0.88      0.89      7952\n",
      "         yes       0.27      0.33      0.30      1091\n",
      "\n",
      "    accuracy                           0.81      9043\n",
      "   macro avg       0.59      0.60      0.60      9043\n",
      "weighted avg       0.83      0.81      0.82      9043\n",
      "\n",
      "Confusion Matrix:\n",
      "[[6998  954]\n",
      " [ 732  359]]\n",
      "ROC AUC Score: 0.6856655515125585\n",
      "<sklearn.metrics._plot.confusion_matrix.ConfusionMatrixDisplay object at 0x000002AF18721ED0>\n"
     ]
    },
    {
     "data": {
      "image/png": "[encoded data removed]",
      "text/plain": [
       "<Figure size 640x480 with 2 Axes>"
      ]
     },
     "metadata": {},
     "output_type": "display_data"
    }
   ],
   "source": [
    "# Evaluate the model\n",
    "print(\"Logistic Regression Classification Report:\")\n",
    "print(classification_report(y_test, y_pred_log_reg))\n",
    "print(\"Confusion Matrix:\")\n",
    "print(confusion_matrix(y_test, y_pred_log_reg))\n",
    "print(\"ROC AUC Score:\", roc_auc_score(y_test, log_reg.predict_proba(X_test_scaled)[:, 1]))\n",
    "print(ConfusionMatrixDisplay.from_predictions(y_test, y_pred_log_reg, cmap='Blues', display_labels=[\"Class 0\", \"Class 1\"]))"
   ]
  },
  {
   "cell_type": "markdown",
   "id": "bba1ad54-2e49-4769-b83d-ca8d3705711d",
   "metadata": {},
   "source": [
    "### baseline model evaluation\n"
   ]
  },
  {
   "cell_type": "markdown",
   "id": "d81731a8-df20-4c8b-8907-2f1679fa027b",
   "metadata": {},
   "source": [
    "Precision:\n",
    "* No: 0.91\n",
    "* Yes: 0.27\n",
    "    * The model is highly accurate at predicting `no` outcomes (91%) but performs poorly for `yes` outcomes (27%). This indicates that the model is not effective at identifying positive cases.\n",
    "\n",
    "\n",
    "Recall\n",
    "* No: 0.88\n",
    "* Yes: 0.33\n",
    "    * The model is better at identifying `no` outcomes (88%) but only identifies 33% of the 'yes' outcomes. This suggests that the model is missing a lot of the positive cases.\n",
    "\n",
    "* The model has a high F1-score for `no` (0.89) but a very low F1-score for `yes` (0.30), which indicates that the model's performance is significantly weaker for predicting the 'yes' class.\n",
    "\n",
    "* The accuracy of the model is 81%, which seems high. However, due to the class imbalance (more `no` outcomes), accuracy can be misleading. A model could achieve high accuracy by simply predicting the majority class `no`."
   ]
  },
  {
   "cell_type": "markdown",
   "id": "b6af23e2-3794-4a86-bd9d-15a3810502f2",
   "metadata": {},
   "source": [
    "#### Confusion Matrix\n",
    "The confusion matrix confirms that the model has a high number of false positives and false negatives. This contributes to the poor recall and precision for the `yes` class."
   ]
  },
  {
   "cell_type": "markdown",
   "id": "a0124742-7fd6-4a64-b7b5-3c71bea94aee",
   "metadata": {},
   "source": [
    "#### ROC AUC Score\n",
    "* A score of 0.68 indicates that the model has some discriminative power but is not performing very well.\n",
    "* A score closer to 1.0 would indicate a better model."
   ]
  },
  {
   "cell_type": "markdown",
   "id": "1e578f01-4536-414f-a0d8-b6c0871ee39d",
   "metadata": {},
   "source": [
    "## 5.2 Advanced model - Decision Tree"
   ]
  },
  {
   "cell_type": "markdown",
   "id": "c573f1b4-9179-4951-a34e-f13631ddae14",
   "metadata": {},
   "source": [
    "Decision tree calssifier is a complex model and fit for non-liniear relationships"
   ]
  },
  {
   "cell_type": "code",
   "execution_count": 29,
   "id": "97c385fc-455d-44a7-8b40-6b4144cc2cc8",
   "metadata": {},
   "outputs": [],
   "source": [
    "#Innitialize the model\n",
    "\n",
    "decision_tree = DecisionTreeClassifier(max_depth=3, min_samples_split=3, criterion='entropy', random_state=42)"
   ]
  },
  {
   "cell_type": "code",
   "execution_count": 30,
   "id": "1c90ac70-867c-4837-ab62-5df494ae4223",
   "metadata": {},
   "outputs": [
    {
     "data": {
      "text/html": [
       "<style>#sk-container-id-1 {\n",
       "  /* Definition of color scheme common for light and dark mode */\n",
       "  --sklearn-color-text: black;\n",
       "  --sklearn-color-line: gray;\n",
       "  /* Definition of color scheme for unfitted estimators */\n",
       "  --sklearn-color-unfitted-level-0: #fff5e6;\n",
       "  --sklearn-color-unfitted-level-1: #f6e4d2;\n",
       "  --sklearn-color-unfitted-level-2: #ffe0b3;\n",
       "  --sklearn-color-unfitted-level-3: chocolate;\n",
       "  /* Definition of color scheme for fitted estimators */\n",
       "  --sklearn-color-fitted-level-0: #f0f8ff;\n",
       "  --sklearn-color-fitted-level-1: #d4ebff;\n",
       "  --sklearn-color-fitted-level-2: #b3dbfd;\n",
       "  --sklearn-color-fitted-level-3: cornflowerblue;\n",
       "\n",
       "  /* Specific color for light theme */\n",
       "  --sklearn-color-text-on-default-background: var(--sg-text-color, var(--theme-code-foreground, var(--jp-content-font-color1, black)));\n",
       "  --sklearn-color-background: var(--sg-background-color, var(--theme-background, var(--jp-layout-color0, white)));\n",
       "  --sklearn-color-border-box: var(--sg-text-color, var(--theme-code-foreground, var(--jp-content-font-color1, black)));\n",
       "  --sklearn-color-icon: #696969;\n",
       "\n",
       "  @media (prefers-color-scheme: dark) {\n",
       "    /* Redefinition of color scheme for dark theme */\n",
       "    --sklearn-color-text-on-default-background: var(--sg-text-color, var(--theme-code-foreground, var(--jp-content-font-color1, white)));\n",
       "    --sklearn-color-background: var(--sg-background-color, var(--theme-background, var(--jp-layout-color0, #111)));\n",
       "    --sklearn-color-border-box: var(--sg-text-color, var(--theme-code-foreground, var(--jp-content-font-color1, white)));\n",
       "    --sklearn-color-icon: #878787;\n",
       "  }\n",
       "}\n",
       "\n",
       "#sk-container-id-1 {\n",
       "  color: var(--sklearn-color-text);\n",
       "}\n",
       "\n",
       "#sk-container-id-1 pre {\n",
       "  padding: 0;\n",
       "}\n",
       "\n",
       "#sk-container-id-1 input.sk-hidden--visually {\n",
       "  border: 0;\n",
       "  clip: rect(1px 1px 1px 1px);\n",
       "  clip: rect(1px, 1px, 1px, 1px);\n",
       "  height: 1px;\n",
       "  margin: -1px;\n",
       "  overflow: hidden;\n",
       "  padding: 0;\n",
       "  position: absolute;\n",
       "  width: 1px;\n",
       "}\n",
       "\n",
       "#sk-container-id-1 div.sk-dashed-wrapped {\n",
       "  border: 1px dashed var(--sklearn-color-line);\n",
       "  margin: 0 0.4em 0.5em 0.4em;\n",
       "  box-sizing: border-box;\n",
       "  padding-bottom: 0.4em;\n",
       "  background-color: var(--sklearn-color-background);\n",
       "}\n",
       "\n",
       "#sk-container-id-1 div.sk-container {\n",
       "  /* jupyter's `normalize.less` sets `[hidden] { display: none; }`\n",
       "     but bootstrap.min.css set `[hidden] { display: none !important; }`\n",
       "     so we also need the `!important` here to be able to override the\n",
       "     default hidden behavior on the sphinx rendered scikit-learn.org.\n",
       "     See: https://github.com/scikit-learn/scikit-learn/issues/21755 */\n",
       "  display: inline-block !important;\n",
       "  position: relative;\n",
       "}\n",
       "\n",
       "#sk-container-id-1 div.sk-text-repr-fallback {\n",
       "  display: none;\n",
       "}\n",
       "\n",
       "div.sk-parallel-item,\n",
       "div.sk-serial,\n",
       "div.sk-item {\n",
       "  /* draw centered vertical line to link estimators */\n",
       "  background-image: linear-gradient(var(--sklearn-color-text-on-default-background), var(--sklearn-color-text-on-default-background));\n",
       "  background-size: 2px 100%;\n",
       "  background-repeat: no-repeat;\n",
       "  background-position: center center;\n",
       "}\n",
       "\n",
       "/* Parallel-specific style estimator block */\n",
       "\n",
       "#sk-container-id-1 div.sk-parallel-item::after {\n",
       "  content: \"\";\n",
       "  width: 100%;\n",
       "  border-bottom: 2px solid var(--sklearn-color-text-on-default-background);\n",
       "  flex-grow: 1;\n",
       "}\n",
       "\n",
       "#sk-container-id-1 div.sk-parallel {\n",
       "  display: flex;\n",
       "  align-items: stretch;\n",
       "  justify-content: center;\n",
       "  background-color: var(--sklearn-color-background);\n",
       "  position: relative;\n",
       "}\n",
       "\n",
       "#sk-container-id-1 div.sk-parallel-item {\n",
       "  display: flex;\n",
       "  flex-direction: column;\n",
       "}\n",
       "\n",
       "#sk-container-id-1 div.sk-parallel-item:first-child::after {\n",
       "  align-self: flex-end;\n",
       "  width: 50%;\n",
       "}\n",
       "\n",
       "#sk-container-id-1 div.sk-parallel-item:last-child::after {\n",
       "  align-self: flex-start;\n",
       "  width: 50%;\n",
       "}\n",
       "\n",
       "#sk-container-id-1 div.sk-parallel-item:only-child::after {\n",
       "  width: 0;\n",
       "}\n",
       "\n",
       "/* Serial-specific style estimator block */\n",
       "\n",
       "#sk-container-id-1 div.sk-serial {\n",
       "  display: flex;\n",
       "  flex-direction: column;\n",
       "  align-items: center;\n",
       "  background-color: var(--sklearn-color-background);\n",
       "  padding-right: 1em;\n",
       "  padding-left: 1em;\n",
       "}\n",
       "\n",
       "\n",
       "/* Toggleable style: style used for estimator/Pipeline/ColumnTransformer box that is\n",
       "clickable and can be expanded/collapsed.\n",
       "- Pipeline and ColumnTransformer use this feature and define the default style\n",
       "- Estimators will overwrite some part of the style using the `sk-estimator` class\n",
       "*/\n",
       "\n",
       "/* Pipeline and ColumnTransformer style (default) */\n",
       "\n",
       "#sk-container-id-1 div.sk-toggleable {\n",
       "  /* Default theme specific background. It is overwritten whether we have a\n",
       "  specific estimator or a Pipeline/ColumnTransformer */\n",
       "  background-color: var(--sklearn-color-background);\n",
       "}\n",
       "\n",
       "/* Toggleable label */\n",
       "#sk-container-id-1 label.sk-toggleable__label {\n",
       "  cursor: pointer;\n",
       "  display: block;\n",
       "  width: 100%;\n",
       "  margin-bottom: 0;\n",
       "  padding: 0.5em;\n",
       "  box-sizing: border-box;\n",
       "  text-align: center;\n",
       "}\n",
       "\n",
       "#sk-container-id-1 label.sk-toggleable__label-arrow:before {\n",
       "  /* Arrow on the left of the label */\n",
       "  content: \"▸\";\n",
       "  float: left;\n",
       "  margin-right: 0.25em;\n",
       "  color: var(--sklearn-color-icon);\n",
       "}\n",
       "\n",
       "#sk-container-id-1 label.sk-toggleable__label-arrow:hover:before {\n",
       "  color: var(--sklearn-color-text);\n",
       "}\n",
       "\n",
       "/* Toggleable content - dropdown */\n",
       "\n",
       "#sk-container-id-1 div.sk-toggleable__content {\n",
       "  max-height: 0;\n",
       "  max-width: 0;\n",
       "  overflow: hidden;\n",
       "  text-align: left;\n",
       "  /* unfitted */\n",
       "  background-color: var(--sklearn-color-unfitted-level-0);\n",
       "}\n",
       "\n",
       "#sk-container-id-1 div.sk-toggleable__content.fitted {\n",
       "  /* fitted */\n",
       "  background-color: var(--sklearn-color-fitted-level-0);\n",
       "}\n",
       "\n",
       "#sk-container-id-1 div.sk-toggleable__content pre {\n",
       "  margin: 0.2em;\n",
       "  border-radius: 0.25em;\n",
       "  color: var(--sklearn-color-text);\n",
       "  /* unfitted */\n",
       "  background-color: var(--sklearn-color-unfitted-level-0);\n",
       "}\n",
       "\n",
       "#sk-container-id-1 div.sk-toggleable__content.fitted pre {\n",
       "  /* unfitted */\n",
       "  background-color: var(--sklearn-color-fitted-level-0);\n",
       "}\n",
       "\n",
       "#sk-container-id-1 input.sk-toggleable__control:checked~div.sk-toggleable__content {\n",
       "  /* Expand drop-down */\n",
       "  max-height: 200px;\n",
       "  max-width: 100%;\n",
       "  overflow: auto;\n",
       "}\n",
       "\n",
       "#sk-container-id-1 input.sk-toggleable__control:checked~label.sk-toggleable__label-arrow:before {\n",
       "  content: \"▾\";\n",
       "}\n",
       "\n",
       "/* Pipeline/ColumnTransformer-specific style */\n",
       "\n",
       "#sk-container-id-1 div.sk-label input.sk-toggleable__control:checked~label.sk-toggleable__label {\n",
       "  color: var(--sklearn-color-text);\n",
       "  background-color: var(--sklearn-color-unfitted-level-2);\n",
       "}\n",
       "\n",
       "#sk-container-id-1 div.sk-label.fitted input.sk-toggleable__control:checked~label.sk-toggleable__label {\n",
       "  background-color: var(--sklearn-color-fitted-level-2);\n",
       "}\n",
       "\n",
       "/* Estimator-specific style */\n",
       "\n",
       "/* Colorize estimator box */\n",
       "#sk-container-id-1 div.sk-estimator input.sk-toggleable__control:checked~label.sk-toggleable__label {\n",
       "  /* unfitted */\n",
       "  background-color: var(--sklearn-color-unfitted-level-2);\n",
       "}\n",
       "\n",
       "#sk-container-id-1 div.sk-estimator.fitted input.sk-toggleable__control:checked~label.sk-toggleable__label {\n",
       "  /* fitted */\n",
       "  background-color: var(--sklearn-color-fitted-level-2);\n",
       "}\n",
       "\n",
       "#sk-container-id-1 div.sk-label label.sk-toggleable__label,\n",
       "#sk-container-id-1 div.sk-label label {\n",
       "  /* The background is the default theme color */\n",
       "  color: var(--sklearn-color-text-on-default-background);\n",
       "}\n",
       "\n",
       "/* On hover, darken the color of the background */\n",
       "#sk-container-id-1 div.sk-label:hover label.sk-toggleable__label {\n",
       "  color: var(--sklearn-color-text);\n",
       "  background-color: var(--sklearn-color-unfitted-level-2);\n",
       "}\n",
       "\n",
       "/* Label box, darken color on hover, fitted */\n",
       "#sk-container-id-1 div.sk-label.fitted:hover label.sk-toggleable__label.fitted {\n",
       "  color: var(--sklearn-color-text);\n",
       "  background-color: var(--sklearn-color-fitted-level-2);\n",
       "}\n",
       "\n",
       "/* Estimator label */\n",
       "\n",
       "#sk-container-id-1 div.sk-label label {\n",
       "  font-family: monospace;\n",
       "  font-weight: bold;\n",
       "  display: inline-block;\n",
       "  line-height: 1.2em;\n",
       "}\n",
       "\n",
       "#sk-container-id-1 div.sk-label-container {\n",
       "  text-align: center;\n",
       "}\n",
       "\n",
       "/* Estimator-specific */\n",
       "#sk-container-id-1 div.sk-estimator {\n",
       "  font-family: monospace;\n",
       "  border: 1px dotted var(--sklearn-color-border-box);\n",
       "  border-radius: 0.25em;\n",
       "  box-sizing: border-box;\n",
       "  margin-bottom: 0.5em;\n",
       "  /* unfitted */\n",
       "  background-color: var(--sklearn-color-unfitted-level-0);\n",
       "}\n",
       "\n",
       "#sk-container-id-1 div.sk-estimator.fitted {\n",
       "  /* fitted */\n",
       "  background-color: var(--sklearn-color-fitted-level-0);\n",
       "}\n",
       "\n",
       "/* on hover */\n",
       "#sk-container-id-1 div.sk-estimator:hover {\n",
       "  /* unfitted */\n",
       "  background-color: var(--sklearn-color-unfitted-level-2);\n",
       "}\n",
       "\n",
       "#sk-container-id-1 div.sk-estimator.fitted:hover {\n",
       "  /* fitted */\n",
       "  background-color: var(--sklearn-color-fitted-level-2);\n",
       "}\n",
       "\n",
       "/* Specification for estimator info (e.g. \"i\" and \"?\") */\n",
       "\n",
       "/* Common style for \"i\" and \"?\" */\n",
       "\n",
       ".sk-estimator-doc-link,\n",
       "a:link.sk-estimator-doc-link,\n",
       "a:visited.sk-estimator-doc-link {\n",
       "  float: right;\n",
       "  font-size: smaller;\n",
       "  line-height: 1em;\n",
       "  font-family: monospace;\n",
       "  background-color: var(--sklearn-color-background);\n",
       "  border-radius: 1em;\n",
       "  height: 1em;\n",
       "  width: 1em;\n",
       "  text-decoration: none !important;\n",
       "  margin-left: 1ex;\n",
       "  /* unfitted */\n",
       "  border: var(--sklearn-color-unfitted-level-1) 1pt solid;\n",
       "  color: var(--sklearn-color-unfitted-level-1);\n",
       "}\n",
       "\n",
       ".sk-estimator-doc-link.fitted,\n",
       "a:link.sk-estimator-doc-link.fitted,\n",
       "a:visited.sk-estimator-doc-link.fitted {\n",
       "  /* fitted */\n",
       "  border: var(--sklearn-color-fitted-level-1) 1pt solid;\n",
       "  color: var(--sklearn-color-fitted-level-1);\n",
       "}\n",
       "\n",
       "/* On hover */\n",
       "div.sk-estimator:hover .sk-estimator-doc-link:hover,\n",
       ".sk-estimator-doc-link:hover,\n",
       "div.sk-label-container:hover .sk-estimator-doc-link:hover,\n",
       ".sk-estimator-doc-link:hover {\n",
       "  /* unfitted */\n",
       "  background-color: var(--sklearn-color-unfitted-level-3);\n",
       "  color: var(--sklearn-color-background);\n",
       "  text-decoration: none;\n",
       "}\n",
       "\n",
       "div.sk-estimator.fitted:hover .sk-estimator-doc-link.fitted:hover,\n",
       ".sk-estimator-doc-link.fitted:hover,\n",
       "div.sk-label-container:hover .sk-estimator-doc-link.fitted:hover,\n",
       ".sk-estimator-doc-link.fitted:hover {\n",
       "  /* fitted */\n",
       "  background-color: var(--sklearn-color-fitted-level-3);\n",
       "  color: var(--sklearn-color-background);\n",
       "  text-decoration: none;\n",
       "}\n",
       "\n",
       "/* Span, style for the box shown on hovering the info icon */\n",
       ".sk-estimator-doc-link span {\n",
       "  display: none;\n",
       "  z-index: 9999;\n",
       "  position: relative;\n",
       "  font-weight: normal;\n",
       "  right: .2ex;\n",
       "  padding: .5ex;\n",
       "  margin: .5ex;\n",
       "  width: min-content;\n",
       "  min-width: 20ex;\n",
       "  max-width: 50ex;\n",
       "  color: var(--sklearn-color-text);\n",
       "  box-shadow: 2pt 2pt 4pt #999;\n",
       "  /* unfitted */\n",
       "  background: var(--sklearn-color-unfitted-level-0);\n",
       "  border: .5pt solid var(--sklearn-color-unfitted-level-3);\n",
       "}\n",
       "\n",
       ".sk-estimator-doc-link.fitted span {\n",
       "  /* fitted */\n",
       "  background: var(--sklearn-color-fitted-level-0);\n",
       "  border: var(--sklearn-color-fitted-level-3);\n",
       "}\n",
       "\n",
       ".sk-estimator-doc-link:hover span {\n",
       "  display: block;\n",
       "}\n",
       "\n",
       "/* \"?\"-specific style due to the `<a>` HTML tag */\n",
       "\n",
       "#sk-container-id-1 a.estimator_doc_link {\n",
       "  float: right;\n",
       "  font-size: 1rem;\n",
       "  line-height: 1em;\n",
       "  font-family: monospace;\n",
       "  background-color: var(--sklearn-color-background);\n",
       "  border-radius: 1rem;\n",
       "  height: 1rem;\n",
       "  width: 1rem;\n",
       "  text-decoration: none;\n",
       "  /* unfitted */\n",
       "  color: var(--sklearn-color-unfitted-level-1);\n",
       "  border: var(--sklearn-color-unfitted-level-1) 1pt solid;\n",
       "}\n",
       "\n",
       "#sk-container-id-1 a.estimator_doc_link.fitted {\n",
       "  /* fitted */\n",
       "  border: var(--sklearn-color-fitted-level-1) 1pt solid;\n",
       "  color: var(--sklearn-color-fitted-level-1);\n",
       "}\n",
       "\n",
       "/* On hover */\n",
       "#sk-container-id-1 a.estimator_doc_link:hover {\n",
       "  /* unfitted */\n",
       "  background-color: var(--sklearn-color-unfitted-level-3);\n",
       "  color: var(--sklearn-color-background);\n",
       "  text-decoration: none;\n",
       "}\n",
       "\n",
       "#sk-container-id-1 a.estimator_doc_link.fitted:hover {\n",
       "  /* fitted */\n",
       "  background-color: var(--sklearn-color-fitted-level-3);\n",
       "}\n",
       "</style><div id=\"sk-container-id-1\" class=\"sk-top-container\"><div class=\"sk-text-repr-fallback\"><pre>DecisionTreeClassifier(criterion=&#x27;entropy&#x27;, max_depth=3, min_samples_split=3,\n",
       "                       random_state=42)</pre><b>In a Jupyter environment, please rerun this cell to show the HTML representation or trust the notebook. <br />On GitHub, the HTML representation is unable to render, please try loading this page with nbviewer.org.</b></div><div class=\"sk-container\" hidden><div class=\"sk-item\"><div class=\"sk-estimator fitted sk-toggleable\"><input class=\"sk-toggleable__control sk-hidden--visually\" id=\"sk-estimator-id-1\" type=\"checkbox\" checked><label for=\"sk-estimator-id-1\" class=\"sk-toggleable__label fitted sk-toggleable__label-arrow fitted\">&nbsp;&nbsp;DecisionTreeClassifier<a class=\"sk-estimator-doc-link fitted\" rel=\"noreferrer\" target=\"_blank\" href=\"https://scikit-learn.org/1.5/modules/generated/sklearn.tree.DecisionTreeClassifier.html\">?<span>Documentation for DecisionTreeClassifier</span></a><span class=\"sk-estimator-doc-link fitted\">i<span>Fitted</span></span></label><div class=\"sk-toggleable__content fitted\"><pre>DecisionTreeClassifier(criterion=&#x27;entropy&#x27;, max_depth=3, min_samples_split=3,\n",
       "                       random_state=42)</pre></div> </div></div></div></div>"
      ],
      "text/plain": [
       "DecisionTreeClassifier(criterion='entropy', max_depth=3, min_samples_split=3,\n",
       "                       random_state=42)"
      ]
     },
     "execution_count": 30,
     "metadata": {},
     "output_type": "execute_result"
    }
   ],
   "source": [
    "# Train the Decision Tree\n",
    "\n",
    "decision_tree.fit(X_train_scaled, y_train_resampled)"
   ]
  },
  {
   "cell_type": "code",
   "execution_count": 31,
   "id": "140a2707-80f1-442a-85e7-fecc6aba030b",
   "metadata": {},
   "outputs": [],
   "source": [
    "#make predictions\n",
    "\n",
    "y_pred = decision_tree.predict(X_test_scaled)"
   ]
  },
  {
   "cell_type": "markdown",
   "id": "2fc5a89b-b9bd-4426-906c-53e04d7445a9",
   "metadata": {},
   "source": [
    "### 5.2.1 decision tree Model Evaluation"
   ]
  },
  {
   "cell_type": "code",
   "execution_count": 32,
   "id": "f371124a-bc1f-42a1-b033-1da82c6c67db",
   "metadata": {},
   "outputs": [
    {
     "name": "stdout",
     "output_type": "stream",
     "text": [
      "Decision Tree Classification Report:\n",
      "              precision    recall  f1-score   support\n",
      "\n",
      "          no       0.91      0.73      0.81      7952\n",
      "         yes       0.20      0.50      0.29      1091\n",
      "\n",
      "    accuracy                           0.70      9043\n",
      "   macro avg       0.56      0.61      0.55      9043\n",
      "weighted avg       0.83      0.70      0.75      9043\n",
      "\n"
     ]
    }
   ],
   "source": [
    "# Evaluate the model's performance\n",
    "print(\"Decision Tree Classification Report:\")\n",
    "print(classification_report(y_test, y_pred))"
   ]
  },
  {
   "cell_type": "code",
   "execution_count": 33,
   "id": "897cc015-9f49-4242-9fdf-d26e8c86e0df",
   "metadata": {},
   "outputs": [
    {
     "name": "stdout",
     "output_type": "stream",
     "text": [
      "Confusion Matrix:\n",
      "[[5780 2172]\n",
      " [ 544  547]]\n"
     ]
    }
   ],
   "source": [
    "print(\"Confusion Matrix:\")\n",
    "print(confusion_matrix(y_test, y_pred))"
   ]
  },
  {
   "cell_type": "code",
   "execution_count": 34,
   "id": "d29cedb0",
   "metadata": {},
   "outputs": [
    {
     "data": {
      "text/plain": [
       "<sklearn.metrics._plot.confusion_matrix.ConfusionMatrixDisplay at 0x2af1cef5fd0>"
      ]
     },
     "execution_count": 34,
     "metadata": {},
     "output_type": "execute_result"
    },
    {
     "data": {
      "image/png": "[encoded data removed]",
      "text/plain": [
       "<Figure size 640x480 with 2 Axes>"
      ]
     },
     "metadata": {},
     "output_type": "display_data"
    }
   ],
   "source": [
    "ConfusionMatrixDisplay.from_predictions(y_test, y_pred, cmap='Blues', display_labels=[\"Class 0\", \"Class 1\"])"
   ]
  },
  {
   "cell_type": "code",
   "execution_count": 35,
   "id": "fb776e6f-9b78-44e6-bd20-37b70666974c",
   "metadata": {},
   "outputs": [
    {
     "name": "stdout",
     "output_type": "stream",
     "text": [
      "ROC AUC Score: 0.6636212785420129\n"
     ]
    }
   ],
   "source": [
    "roc_auc = roc_auc_score(y_test, decision_tree.predict_proba(X_test_scaled)[:, 1])\n",
    "print(f\"ROC AUC Score: {roc_auc}\")"
   ]
  },
  {
   "cell_type": "markdown",
   "id": "bda30e6e-2ef0-4e78-abd2-11917ffed97b",
   "metadata": {},
   "source": [
    "### 5.2.2 Analysis and conclusions"
   ]
  },
  {
   "cell_type": "markdown",
   "id": "5f727e8d-40b7-4dcf-be2e-24a3c768970b",
   "metadata": {},
   "source": [
    "#### Precision:\n",
    "\n",
    "No: 0.91 this is a high precision; indicating that when the model predicts \"no\" mostly correctly\n",
    "Yes: 0.20 this is a low precision; indicating that when the model predicts \"yes\" often incorrectly\n",
    "\n",
    "#### Recall:\n",
    "\n",
    "No: 0.73 means that the model correctly identifies 87% of the \"no\" cases\n",
    "Yes: 0.50 means that the model correctly identifies 32% of the \"yes\" cases\n",
    "\n",
    "#### Accuracy\n",
    "0.70 overall, 70% of the predictions are correct\n",
    "\n",
    "#### ROC AUC Score: 0.663\n",
    "This model is performing quite well in distinguishing between the two classes. higher than that of logistic model"
   ]
  },
  {
   "cell_type": "markdown",
   "id": "a1068580-18e1-42a8-8ed9-53b5684b25b9",
   "metadata": {},
   "source": [
    "## Conclusions"
   ]
  },
  {
   "cell_type": "markdown",
   "id": "5c521cc5-f0bd-4ef9-9716-d0fc4c87ce15",
   "metadata": {},
   "source": [
    "![image](Images/perfomance.jpg)"
   ]
  },
  {
   "cell_type": "markdown",
   "id": "b142e5aa-59e3-47f5-a0cd-36035defdf73",
   "metadata": {},
   "source": [
    "#### Improved Recall and F1-Score:\n",
    "The Decision Tree model shows a slight improvement in recall and F1-score for the \"yes\" class compared to the Logistic Regression model. This suggests that the Decision Tree is better at identifying the \"yes\" cases (true positives) than Logistic Regression.\n",
    "\n",
    "#### Higher ROC AUC Score:\n",
    "The logistic model has a higher ROC AUC score than the Decision tree model. This indicates better overall performance in distinguishing between the \"yes\" and \"no\" classes."
   ]
  },
  {
   "cell_type": "markdown",
   "id": "09c59f66-2129-41b0-ae2d-1f612e36995a",
   "metadata": {},
   "source": [
    "## Findings and Recommendations"
   ]
  },
  {
   "cell_type": "markdown",
   "id": "da91d256-52a4-4d8c-b097-625acdcf8dea",
   "metadata": {},
   "source": [
    "### To increase the acceptance rate, the bank should focus on Targeting:\n",
    "1. Individuals who have lower financial responsibilities such as students, retired or divorced not neglecting the others such as admin and management job categories\n",
    "2. Individuals who have a yearly bank balance of $80,000 - $90,000 and more campaigns on $10,000 - $60,000\n",
    "3. Those Who do not have an existing bank loan or have not defaulted on the loan not neglecting others as there can be success still\n",
    "4. Only doing 1-5 campaigns per customer\n",
    "5. Those who have an existing or previously subscribed to deposit terms\n",
    "6. A logistic model and Decision tree can be used to model so as to predict the rate of acceptance, Though a more balanced dataset should be used for training the models"
   ]
  },
  {
   "cell_type": "markdown",
   "id": "06e467ed-30a7-49cc-ad02-75a493e22468",
   "metadata": {},
   "source": [
    "## Analysis prepared by `Floyed Muchiri`, Floyedmuchiri@gmail.com ##"
   ]
  }
 ],
 "metadata": {
  "kernelspec": {
   "display_name": "learn-env",
   "language": "python",
   "name": "python3"
  },
  "language_info": {
   "codemirror_mode": {
    "name": "ipython",
    "version": 3
   },
   "file_extension": ".py",
   "mimetype": "text/x-python",
   "name": "python",
   "nbconvert_exporter": "python",
   "pygments_lexer": "ipython3",
   "version": "3.11.9"
  }
 },
 "nbformat": 4,
 "nbformat_minor": 5
}
