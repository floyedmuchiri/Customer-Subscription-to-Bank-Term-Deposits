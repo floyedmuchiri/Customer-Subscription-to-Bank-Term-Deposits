{
 "cells": [
  {
   "cell_type": "markdown",
   "id": "9a8077a6-ae58-4d38-a22c-b51bab11ebef",
   "metadata": {},
   "source": [
    "# Will A customer Accept Bank's Term Deposit?"
   ]
  },
  {
   "cell_type": "markdown",
   "id": "f5d6f5e8-e4b7-47cf-9f28-9ca5d193d057",
   "metadata": {},
   "source": [
    "## 1. Project Description\n",
    "\n",
    "#### This project aims to predict whether a client will subscribe to a bank term deposit based on historical data from direct marketing campaigns conducted by a Portuguese banking institution. The dataset contains various attributes related to the clients' demographic information, banking history, and details about the marketing campaign.\n",
    "\n",
    "#### The aim is to develop a classification model that can help the bank target potential customers more effectively, thereby increasing the success rate of their marketing campaigns."
   ]
  },
  {
   "cell_type": "markdown",
   "id": "d48bf7e9-b5d0-4e3f-a37c-45c44a90975f",
   "metadata": {},
   "source": [
    "## 2. Dataset Understanding\n",
    "\n",
    "The dataset used for this project is `bank-full.csv`, [Download](https://archive.ics.uci.edu/dataset/222/bank+marketing), which contains data from direct marketing campaigns. The dataset consists of 17 input variables and one target variable `y`. The target variable `y` indicates whether a client has subscribed to a term deposit `yes` or not `no`.\n",
    "\n",
    "* The dataset consists of 4521 records.\n",
    "* the dataset does not have missing values"
   ]
  },
  {
   "cell_type": "markdown",
   "id": "9b2ce031-3f79-44c7-8bdb-dd99bf12bff9",
   "metadata": {},
   "source": [
    "### 2.1. The variables/Features used for this project are:\n",
    "\n",
    "1. `age` which is an integer\n",
    "2. `job` which explains the type of job (categorical: `admin`,`blue-collar`,`entrepreneur`,`housemaid`,`management`,`retired`,`self-employed`,`services`,`student`,`technician`,`unemployed`,`unknown`)\n",
    "3. `marital` which is marital status (categorical: `divorced`,`married`,`single`,`unknown`; note: 'divorced' means divorced or widowed)\n",
    "4. `default` which explains if the customer has credit in default - Binary\n",
    "5. `balance` which is the average yearly balance - Integer\n",
    "6. `housing` which is if the customer has housing loan - binary\n",
    "7. `loan` which is if the client has personal loan - binary\n",
    "8. `campaign` which is the number of contacts performed during this campaign and for this client (numeric, includes last contact)\n",
    "9. `poutcome` explains the outcome of the previous marketing campaign (categorical: `failure`,`nonexistent`,`success`)\n",
    "10. `y` which is the target. has the client subscribed a term deposit?"
   ]
  },
  {
   "cell_type": "markdown",
   "id": "728cad13-ce6c-4123-896a-72acfa62f349",
   "metadata": {},
   "source": [
    "## 3. Data Understanding and Preprocessing"
   ]
  },
  {
   "cell_type": "markdown",
   "id": "db34d19a-ec90-4fb9-9944-00409cd8bf90",
   "metadata": {},
   "source": [
    "### 3.1 Importing Libraries"
   ]
  },
  {
   "cell_type": "code",
   "execution_count": 12,
   "id": "2848ca98-2663-43d6-9eb6-3bdd82179716",
   "metadata": {},
   "outputs": [],
   "source": [
    "# importing libraries \n",
    "\n",
    "import pandas as pd\n",
    "import numpy as np\n",
    "import matplotlib.pyplot as plt\n",
    "import seaborn as sns\n"
   ]
  },
  {
   "cell_type": "markdown",
   "id": "99263516-1214-4d05-8faf-cc003462a508",
   "metadata": {},
   "source": [
    "### 3.2 Load dataset"
   ]
  },
  {
   "cell_type": "code",
   "execution_count": 22,
   "id": "ffdf2edc-10bb-4798-9332-b12f6b075939",
   "metadata": {},
   "outputs": [
    {
     "data": {
      "text/html": [
       "<div>\n",
       "<style scoped>\n",
       "    .dataframe tbody tr th:only-of-type {\n",
       "        vertical-align: middle;\n",
       "    }\n",
       "\n",
       "    .dataframe tbody tr th {\n",
       "        vertical-align: top;\n",
       "    }\n",
       "\n",
       "    .dataframe thead th {\n",
       "        text-align: right;\n",
       "    }\n",
       "</style>\n",
       "<table border=\"1\" class=\"dataframe\">\n",
       "  <thead>\n",
       "    <tr style=\"text-align: right;\">\n",
       "      <th></th>\n",
       "      <th>age</th>\n",
       "      <th>job</th>\n",
       "      <th>marital</th>\n",
       "      <th>default</th>\n",
       "      <th>balance</th>\n",
       "      <th>housing</th>\n",
       "      <th>loan</th>\n",
       "      <th>campaign</th>\n",
       "      <th>poutcome</th>\n",
       "      <th>y</th>\n",
       "    </tr>\n",
       "  </thead>\n",
       "  <tbody>\n",
       "    <tr>\n",
       "      <th>0</th>\n",
       "      <td>30</td>\n",
       "      <td>unemployed</td>\n",
       "      <td>married</td>\n",
       "      <td>no</td>\n",
       "      <td>1787</td>\n",
       "      <td>no</td>\n",
       "      <td>no</td>\n",
       "      <td>1</td>\n",
       "      <td>unknown</td>\n",
       "      <td>no</td>\n",
       "    </tr>\n",
       "    <tr>\n",
       "      <th>1</th>\n",
       "      <td>33</td>\n",
       "      <td>services</td>\n",
       "      <td>married</td>\n",
       "      <td>no</td>\n",
       "      <td>4789</td>\n",
       "      <td>yes</td>\n",
       "      <td>yes</td>\n",
       "      <td>1</td>\n",
       "      <td>failure</td>\n",
       "      <td>no</td>\n",
       "    </tr>\n",
       "    <tr>\n",
       "      <th>2</th>\n",
       "      <td>35</td>\n",
       "      <td>management</td>\n",
       "      <td>single</td>\n",
       "      <td>no</td>\n",
       "      <td>1350</td>\n",
       "      <td>yes</td>\n",
       "      <td>no</td>\n",
       "      <td>1</td>\n",
       "      <td>failure</td>\n",
       "      <td>no</td>\n",
       "    </tr>\n",
       "    <tr>\n",
       "      <th>3</th>\n",
       "      <td>30</td>\n",
       "      <td>management</td>\n",
       "      <td>married</td>\n",
       "      <td>no</td>\n",
       "      <td>1476</td>\n",
       "      <td>yes</td>\n",
       "      <td>yes</td>\n",
       "      <td>4</td>\n",
       "      <td>unknown</td>\n",
       "      <td>no</td>\n",
       "    </tr>\n",
       "    <tr>\n",
       "      <th>4</th>\n",
       "      <td>59</td>\n",
       "      <td>blue-collar</td>\n",
       "      <td>married</td>\n",
       "      <td>no</td>\n",
       "      <td>0</td>\n",
       "      <td>yes</td>\n",
       "      <td>no</td>\n",
       "      <td>1</td>\n",
       "      <td>unknown</td>\n",
       "      <td>no</td>\n",
       "    </tr>\n",
       "  </tbody>\n",
       "</table>\n",
       "</div>"
      ],
      "text/plain": [
       "   age          job  marital default  balance housing loan  campaign poutcome  \\\n",
       "0   30   unemployed  married      no     1787      no   no         1  unknown   \n",
       "1   33     services  married      no     4789     yes  yes         1  failure   \n",
       "2   35   management   single      no     1350     yes   no         1  failure   \n",
       "3   30   management  married      no     1476     yes  yes         4  unknown   \n",
       "4   59  blue-collar  married      no        0     yes   no         1  unknown   \n",
       "\n",
       "    y  \n",
       "0  no  \n",
       "1  no  \n",
       "2  no  \n",
       "3  no  \n",
       "4  no  "
      ]
     },
     "execution_count": 22,
     "metadata": {},
     "output_type": "execute_result"
    }
   ],
   "source": [
    "# loading the dataset\n",
    "\n",
    "# relevant columns\n",
    "selected_columns = ['age', 'job', 'marital', 'default', 'balance', 'housing', 'loan', 'campaign', 'poutcome', 'y']\n",
    "\n",
    "# Load the dataset\n",
    "data = pd.read_csv('Data/bank.csv', delimiter=';', usecols=selected_columns)\n",
    "\n",
    "# Display the first 5 rows of the dataframe\n",
    "data.head()"
   ]
  },
  {
   "cell_type": "markdown",
   "id": "1fb97089-09c5-4cda-80e7-e5acd0def2b9",
   "metadata": {},
   "source": [
    "### 3.3 Visualizing outcome distribution"
   ]
  },
  {
   "cell_type": "code",
   "execution_count": 30,
   "id": "bff3412f-2e76-4e2d-a17f-a6513abe8d24",
   "metadata": {},
   "outputs": [
    {
     "data": {
      "image/png": "[encoded data removed]",
      "text/plain": [
       "<Figure size 640x480 with 1 Axes>"
      ]
     },
     "metadata": {},
     "output_type": "display_data"
    }
   ],
   "source": [
    "plt.hist(data.y, color='blue')\n",
    "plt.title('target distribution')\n",
    "plt.xlabel('outcome')\n",
    "plt.ylabel('Count')\n",
    "\n",
    "# Add value counts on top of the bars\n",
    "value_counts = data['y'].value_counts()\n",
    "for i, count in enumerate(value_counts):\n",
    "    plt.text(i, count, str(count), va='bottom', fontsize=12)\n",
    "\n",
    "plt.show()"
   ]
  },
  {
   "cell_type": "markdown",
   "id": "9a4872bc-af33-4b7d-9819-ece193474228",
   "metadata": {},
   "source": [
    "From the distribution, the number of `yes` is 521 which is 11.7% of the whole dataset. Meaning the data is highly imbalanced to the no outcomes and a model can be 89% right by classifying all as `no` which will not be a good outcome."
   ]
  },
  {
   "cell_type": "markdown",
   "id": "f43809ba-4700-454d-aa42-48d1a4c08f1c",
   "metadata": {},
   "source": [
    "### 3.4 One hot encoding the categorical values for modeling"
   ]
  },
  {
   "cell_type": "code",
   "execution_count": null,
   "id": "a5fd5b03-6f41-4e05-b245-4e18cbd9258d",
   "metadata": {},
   "outputs": [],
   "source": []
  }
 ],
 "metadata": {
  "kernelspec": {
   "display_name": "Python (learn-env)",
   "language": "python",
   "name": "learn-env"
  },
  "language_info": {
   "codemirror_mode": {
    "name": "ipython",
    "version": 3
   },
   "file_extension": ".py",
   "mimetype": "text/x-python",
   "name": "python",
   "nbconvert_exporter": "python",
   "pygments_lexer": "ipython3",
   "version": "3.11.9"
  }
 },
 "nbformat": 4,
 "nbformat_minor": 5
}
