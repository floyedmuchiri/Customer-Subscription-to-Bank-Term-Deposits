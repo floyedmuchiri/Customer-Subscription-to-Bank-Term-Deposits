{
 "cells": [
  {
   "cell_type": "markdown",
   "id": "9a8077a6-ae58-4d38-a22c-b51bab11ebef",
   "metadata": {},
   "source": [
    "# Will A customer Accept Bank's Term Deposit?"
   ]
  },
  {
   "cell_type": "markdown",
   "id": "f5d6f5e8-e4b7-47cf-9f28-9ca5d193d057",
   "metadata": {},
   "source": [
    "## 1. Project Description\n",
    "\n",
    "#### This project aims to predict whether a client will subscribe to a bank term deposit based on historical data from direct marketing campaigns conducted by a Portuguese banking institution. The dataset contains various attributes related to the clients' demographic information, banking history, and details about the marketing campaign.\n",
    "\n",
    "#### The aim is to develop a classification model that can help the bank target potential customers more effectively, thereby increasing the success rate of their marketing campaigns."
   ]
  },
  {
   "cell_type": "markdown",
   "id": "d48bf7e9-b5d0-4e3f-a37c-45c44a90975f",
   "metadata": {},
   "source": [
    "## 2. Data Understanding\n",
    "\n",
    "The dataset used for this project is `bank-full.csv`, [Download](https://archive.ics.uci.edu/dataset/222/bank+marketing), which contains data from direct marketing campaigns. The dataset consists of 17 input variables and one target variable `y`. The target variable `y` indicates whether a client has subscribed to a term deposit `yes` or not `no`."
   ]
  },
  {
   "cell_type": "markdown",
   "id": "9b2ce031-3f79-44c7-8bdb-dd99bf12bff9",
   "metadata": {},
   "source": [
    "### 2.1. The variables/Features used for this project are:\n",
    "\n",
    "1. `age` which is an integer\n",
    "2. `job` which explains the type of job (categorical: `admin`,`blue-collar`,`entrepreneur`,`housemaid`,`management`,`retired`,`self-employed`,`services`,`student`,`technician`,`unemployed`,`unknown`)\n",
    "3. `marital` which is marital status (categorical: `divorced`,`married`,`single`,`unknown`; note: 'divorced' means divorced or widowed)\n",
    "4. `default` which explains if the customer has credit in default - Binary\n",
    "5. `balance` which is the average yearly balance - Integer\n",
    "6. `housing` which is if the customer has housing loan - binary\n",
    "7. `loan` which is if the client has personal loan - binary\n",
    "8. `campaign` which is the number of contacts performed during this campaign and for this client (numeric, includes last contact)\n",
    "9. `poutcome` explains the outcome of the previous marketing campaign (categorical: `failure`,`nonexistent`,`success`)\n",
    "10. `y` which is the target. has the client subscribed a term deposit?"
   ]
  },
  {
   "cell_type": "markdown",
   "id": "728cad13-ce6c-4123-896a-72acfa62f349",
   "metadata": {},
   "source": [
    "## 3. Data Preprocessing"
   ]
  },
  {
   "cell_type": "markdown",
   "id": "db34d19a-ec90-4fb9-9944-00409cd8bf90",
   "metadata": {},
   "source": [
    "### 3.1 Importing Libraries"
   ]
  },
  {
   "cell_type": "code",
   "execution_count": 1,
   "id": "2848ca98-2663-43d6-9eb6-3bdd82179716",
   "metadata": {},
   "outputs": [],
   "source": [
    "# importing libraries \n",
    "\n",
    "import pandas as pd\n",
    "import numpy as np\n"
   ]
  },
  {
   "cell_type": "markdown",
   "id": "99263516-1214-4d05-8faf-cc003462a508",
   "metadata": {},
   "source": [
    "### 3.2 Load dataset"
   ]
  },
  {
   "cell_type": "code",
   "execution_count": 5,
   "id": "ffdf2edc-10bb-4798-9332-b12f6b075939",
   "metadata": {},
   "outputs": [
    {
     "name": "stdout",
     "output_type": "stream",
     "text": [
      "   age           job  marital default  balance housing loan  campaign  \\\n",
      "0   58    management  married      no     2143     yes   no         1   \n",
      "1   44    technician   single      no       29     yes   no         1   \n",
      "2   33  entrepreneur  married      no        2     yes  yes         1   \n",
      "3   47   blue-collar  married      no     1506     yes   no         1   \n",
      "4   33       unknown   single      no        1      no   no         1   \n",
      "\n",
      "  poutcome   y  \n",
      "0  unknown  no  \n",
      "1  unknown  no  \n",
      "2  unknown  no  \n",
      "3  unknown  no  \n",
      "4  unknown  no  \n"
     ]
    }
   ],
   "source": [
    "# loading the dataset\n",
    "\n",
    "# relevant columns\n",
    "selected_columns = ['age', 'job', 'marital', 'default', 'balance', 'housing', 'loan', 'campaign', 'poutcome', 'y']\n",
    "\n",
    "# Load the dataset\n",
    "data = pd.read_csv('Data/bank-full.csv', delimiter=';', usecols=selected_columns)\n",
    "\n",
    "# Display the first 5 rows of the dataframe\n",
    "print(data.head())"
   ]
  },
  {
   "cell_type": "code",
   "execution_count": null,
   "id": "bff3412f-2e76-4e2d-a17f-a6513abe8d24",
   "metadata": {},
   "outputs": [],
   "source": []
  }
 ],
 "metadata": {
  "kernelspec": {
   "display_name": "Python (learn-env)",
   "language": "python",
   "name": "learn-env"
  },
  "language_info": {
   "codemirror_mode": {
    "name": "ipython",
    "version": 3
   },
   "file_extension": ".py",
   "mimetype": "text/x-python",
   "name": "python",
   "nbconvert_exporter": "python",
   "pygments_lexer": "ipython3",
   "version": "3.11.9"
  }
 },
 "nbformat": 4,
 "nbformat_minor": 5
}
