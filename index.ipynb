{
 "cells": [
  {
   "cell_type": "markdown",
   "id": "9a8077a6-ae58-4d38-a22c-b51bab11ebef",
   "metadata": {},
   "source": [
    "# Will A customer Accept Bank's Term Deposit?"
   ]
  },
  {
   "cell_type": "markdown",
   "id": "f5d6f5e8-e4b7-47cf-9f28-9ca5d193d057",
   "metadata": {},
   "source": [
    "## 1. Project Description\n",
    "\n",
    "#### This project aims to predict whether a client will subscribe to a bank term deposit based on historical data from direct marketing campaigns conducted by a Portuguese banking institution. The dataset contains various attributes related to the clients' demographic information, banking history, and details about the marketing campaign.\n",
    "\n",
    "#### The aim is to develop a classification model that can help the bank target potential customers more effectively, thereby increasing the success rate of their marketing campaigns."
   ]
  },
  {
   "cell_type": "markdown",
   "id": "d48bf7e9-b5d0-4e3f-a37c-45c44a90975f",
   "metadata": {},
   "source": [
    "## 2. Dataset Understanding\n",
    "\n",
    "The dataset used for this project is `bank-full.csv`, [Download](https://archive.ics.uci.edu/dataset/222/bank+marketing), which contains data from direct marketing campaigns. The dataset consists of 17 input variables and one target variable `y`. The target variable `y` indicates whether a client has subscribed to a term deposit `yes` or not `no`.\n",
    "\n",
    "* The dataset consists of 4521 records.\n",
    "* the dataset does not have missing values"
   ]
  },
  {
   "cell_type": "markdown",
   "id": "9b2ce031-3f79-44c7-8bdb-dd99bf12bff9",
   "metadata": {},
   "source": [
    "### 2.1. The variables/Features used for this project are:\n",
    "\n",
    "1. `age` which is an integer\n",
    "2. `job` which explains the type of job (categorical: `admin`,`blue-collar`,`entrepreneur`,`housemaid`,`management`,`retired`,`self-employed`,`services`,`student`,`technician`,`unemployed`,`unknown`)\n",
    "3. `marital` which is marital status (categorical: `divorced`,`married`,`single`,`unknown`; note: 'divorced' means divorced or widowed)\n",
    "4. `default` which explains if the customer has credit in default - Binary\n",
    "5. `balance` which is the average yearly balance - Integer\n",
    "6. `housing` which is if the customer has housing loan - binary\n",
    "7. `loan` which is if the client has personal loan - binary\n",
    "8. `campaign` which is the number of contacts performed during this campaign and for this client (numeric, includes last contact)\n",
    "9. `poutcome` explains the outcome of the previous marketing campaign (categorical: `failure`,`nonexistent`,`success`)\n",
    "10. `y` which is the target. has the client subscribed a term deposit?"
   ]
  },
  {
   "cell_type": "markdown",
   "id": "728cad13-ce6c-4123-896a-72acfa62f349",
   "metadata": {},
   "source": [
    "## 3. Data Understanding and Preprocessing"
   ]
  },
  {
   "cell_type": "markdown",
   "id": "db34d19a-ec90-4fb9-9944-00409cd8bf90",
   "metadata": {},
   "source": [
    "### 3.1 Importing Libraries"
   ]
  },
  {
   "cell_type": "code",
   "execution_count": 67,
   "id": "2848ca98-2663-43d6-9eb6-3bdd82179716",
   "metadata": {},
   "outputs": [],
   "source": [
    "# importing libraries \n",
    "\n",
    "import pandas as pd\n",
    "import numpy as np\n",
    "import matplotlib.pyplot as plt\n",
    "import seaborn as sns\n",
    "\n",
    "from sklearn.model_selection import train_test_split\n",
    "from sklearn.preprocessing import StandardScaler, OneHotEncoder\n",
    "from imblearn.over_sampling import SMOTE\n",
    "from sklearn.linear_model import LogisticRegression\n",
    "from sklearn.metrics import classification_report, confusion_matrix, roc_auc_score"
   ]
  },
  {
   "cell_type": "markdown",
   "id": "99263516-1214-4d05-8faf-cc003462a508",
   "metadata": {},
   "source": [
    "### 3.2 Load dataset"
   ]
  },
  {
   "cell_type": "code",
   "execution_count": 68,
   "id": "ffdf2edc-10bb-4798-9332-b12f6b075939",
   "metadata": {},
   "outputs": [
    {
     "data": {
      "text/html": [
       "<div>\n",
       "<style scoped>\n",
       "    .dataframe tbody tr th:only-of-type {\n",
       "        vertical-align: middle;\n",
       "    }\n",
       "\n",
       "    .dataframe tbody tr th {\n",
       "        vertical-align: top;\n",
       "    }\n",
       "\n",
       "    .dataframe thead th {\n",
       "        text-align: right;\n",
       "    }\n",
       "</style>\n",
       "<table border=\"1\" class=\"dataframe\">\n",
       "  <thead>\n",
       "    <tr style=\"text-align: right;\">\n",
       "      <th></th>\n",
       "      <th>age</th>\n",
       "      <th>job</th>\n",
       "      <th>marital</th>\n",
       "      <th>default</th>\n",
       "      <th>balance</th>\n",
       "      <th>housing</th>\n",
       "      <th>loan</th>\n",
       "      <th>campaign</th>\n",
       "      <th>poutcome</th>\n",
       "      <th>y</th>\n",
       "    </tr>\n",
       "  </thead>\n",
       "  <tbody>\n",
       "    <tr>\n",
       "      <th>0</th>\n",
       "      <td>30</td>\n",
       "      <td>unemployed</td>\n",
       "      <td>married</td>\n",
       "      <td>no</td>\n",
       "      <td>1787</td>\n",
       "      <td>no</td>\n",
       "      <td>no</td>\n",
       "      <td>1</td>\n",
       "      <td>unknown</td>\n",
       "      <td>no</td>\n",
       "    </tr>\n",
       "    <tr>\n",
       "      <th>1</th>\n",
       "      <td>33</td>\n",
       "      <td>services</td>\n",
       "      <td>married</td>\n",
       "      <td>no</td>\n",
       "      <td>4789</td>\n",
       "      <td>yes</td>\n",
       "      <td>yes</td>\n",
       "      <td>1</td>\n",
       "      <td>failure</td>\n",
       "      <td>no</td>\n",
       "    </tr>\n",
       "    <tr>\n",
       "      <th>2</th>\n",
       "      <td>35</td>\n",
       "      <td>management</td>\n",
       "      <td>single</td>\n",
       "      <td>no</td>\n",
       "      <td>1350</td>\n",
       "      <td>yes</td>\n",
       "      <td>no</td>\n",
       "      <td>1</td>\n",
       "      <td>failure</td>\n",
       "      <td>no</td>\n",
       "    </tr>\n",
       "    <tr>\n",
       "      <th>3</th>\n",
       "      <td>30</td>\n",
       "      <td>management</td>\n",
       "      <td>married</td>\n",
       "      <td>no</td>\n",
       "      <td>1476</td>\n",
       "      <td>yes</td>\n",
       "      <td>yes</td>\n",
       "      <td>4</td>\n",
       "      <td>unknown</td>\n",
       "      <td>no</td>\n",
       "    </tr>\n",
       "    <tr>\n",
       "      <th>4</th>\n",
       "      <td>59</td>\n",
       "      <td>blue-collar</td>\n",
       "      <td>married</td>\n",
       "      <td>no</td>\n",
       "      <td>0</td>\n",
       "      <td>yes</td>\n",
       "      <td>no</td>\n",
       "      <td>1</td>\n",
       "      <td>unknown</td>\n",
       "      <td>no</td>\n",
       "    </tr>\n",
       "  </tbody>\n",
       "</table>\n",
       "</div>"
      ],
      "text/plain": [
       "   age          job  marital default  balance housing loan  campaign poutcome  \\\n",
       "0   30   unemployed  married      no     1787      no   no         1  unknown   \n",
       "1   33     services  married      no     4789     yes  yes         1  failure   \n",
       "2   35   management   single      no     1350     yes   no         1  failure   \n",
       "3   30   management  married      no     1476     yes  yes         4  unknown   \n",
       "4   59  blue-collar  married      no        0     yes   no         1  unknown   \n",
       "\n",
       "    y  \n",
       "0  no  \n",
       "1  no  \n",
       "2  no  \n",
       "3  no  \n",
       "4  no  "
      ]
     },
     "execution_count": 68,
     "metadata": {},
     "output_type": "execute_result"
    }
   ],
   "source": [
    "# loading the dataset\n",
    "\n",
    "# relevant columns\n",
    "selected_columns = ['age', 'job', 'marital', 'default', 'balance', 'housing', 'loan', 'campaign', 'poutcome', 'y']\n",
    "\n",
    "# Load the dataset\n",
    "data = pd.read_csv('Data/bank.csv', delimiter=';', usecols=selected_columns)\n",
    "\n",
    "# Display the first 5 rows of the dataframe\n",
    "data.head()"
   ]
  },
  {
   "cell_type": "code",
   "execution_count": 69,
   "id": "371ba962-c402-4a45-a1d6-2cb29c217d9c",
   "metadata": {},
   "outputs": [
    {
     "data": {
      "text/plain": [
       "(4521, 10)"
      ]
     },
     "execution_count": 69,
     "metadata": {},
     "output_type": "execute_result"
    }
   ],
   "source": [
    "data.shape"
   ]
  },
  {
   "cell_type": "code",
   "execution_count": 70,
   "id": "beab3534-6e6b-42f2-90f3-710441c4c531",
   "metadata": {},
   "outputs": [
    {
     "name": "stdout",
     "output_type": "stream",
     "text": [
      "<class 'pandas.core.frame.DataFrame'>\n",
      "RangeIndex: 4521 entries, 0 to 4520\n",
      "Data columns (total 10 columns):\n",
      " #   Column    Non-Null Count  Dtype \n",
      "---  ------    --------------  ----- \n",
      " 0   age       4521 non-null   int64 \n",
      " 1   job       4521 non-null   object\n",
      " 2   marital   4521 non-null   object\n",
      " 3   default   4521 non-null   object\n",
      " 4   balance   4521 non-null   int64 \n",
      " 5   housing   4521 non-null   object\n",
      " 6   loan      4521 non-null   object\n",
      " 7   campaign  4521 non-null   int64 \n",
      " 8   poutcome  4521 non-null   object\n",
      " 9   y         4521 non-null   object\n",
      "dtypes: int64(3), object(7)\n",
      "memory usage: 353.3+ KB\n"
     ]
    }
   ],
   "source": [
    "data.info()"
   ]
  },
  {
   "cell_type": "markdown",
   "id": "5de05d66-8661-428c-b16d-521c81036b1d",
   "metadata": {},
   "source": [
    "the dataset has no null values"
   ]
  },
  {
   "cell_type": "markdown",
   "id": "1fb97089-09c5-4cda-80e7-e5acd0def2b9",
   "metadata": {},
   "source": [
    "### 3.3 Visualizing outcome distribution"
   ]
  },
  {
   "cell_type": "code",
   "execution_count": 71,
   "id": "bff3412f-2e76-4e2d-a17f-a6513abe8d24",
   "metadata": {},
   "outputs": [
    {
     "data": {
      "image/png": "[encoded data removed]",
      "text/plain": [
       "<Figure size 640x480 with 1 Axes>"
      ]
     },
     "metadata": {},
     "output_type": "display_data"
    }
   ],
   "source": [
    "plt.hist(data.y, color='blue')\n",
    "plt.title('target distribution')\n",
    "plt.xlabel('outcome')\n",
    "plt.ylabel('Count')\n",
    "\n",
    "# Add value counts on top of the bars\n",
    "value_counts = data['y'].value_counts()\n",
    "for i, count in enumerate(value_counts):\n",
    "    plt.text(i, count, str(count), va='bottom', fontsize=12)\n",
    "\n",
    "plt.show()"
   ]
  },
  {
   "cell_type": "markdown",
   "id": "9a4872bc-af33-4b7d-9819-ece193474228",
   "metadata": {},
   "source": [
    "From the distribution, the number of `yes` is 521 which is 11.7% of the whole dataset. Meaning the data is highly imbalanced to the no outcomes and a model can be 89% right by classifying all as `no` which will not be a good outcome.\n",
    "\n",
    "We will apply `SMOTE` from `imblearn` module to handle the class imbalance"
   ]
  },
  {
   "cell_type": "markdown",
   "id": "8530ccaf-9811-4276-b80e-51867e235d5d",
   "metadata": {},
   "source": [
    "### 3.4 Visualizing the age distibution of the clients"
   ]
  },
  {
   "cell_type": "code",
   "execution_count": 72,
   "id": "7842e794-8dc8-40a5-9a32-77a357583633",
   "metadata": {},
   "outputs": [
    {
     "name": "stderr",
     "output_type": "stream",
     "text": [
      "C:\\Users\\Floyed\\AppData\\Local\\Temp\\ipykernel_8520\\3805640322.py:1: UserWarning: \n",
      "\n",
      "`distplot` is a deprecated function and will be removed in seaborn v0.14.0.\n",
      "\n",
      "Please adapt your code to use either `displot` (a figure-level function with\n",
      "similar flexibility) or `histplot` (an axes-level function for histograms).\n",
      "\n",
      "For a guide to updating your code to use the new functions, please see\n",
      "https://gist.github.com/mwaskom/de44147ed2974457ad6372750bbe5751\n",
      "\n",
      "  sns.distplot(data.age, color='blue')\n"
     ]
    },
    {
     "data": {
      "text/plain": [
       "<Axes: xlabel='age', ylabel='Density'>"
      ]
     },
     "execution_count": 72,
     "metadata": {},
     "output_type": "execute_result"
    },
    {
     "data": {
      "image/png": "[encoded data removed]",
      "text/plain": [
       "<Figure size 640x480 with 1 Axes>"
      ]
     },
     "metadata": {},
     "output_type": "display_data"
    }
   ],
   "source": [
    "sns.distplot(data.age, color='blue')"
   ]
  },
  {
   "cell_type": "markdown",
   "id": "3ae40c6c-a858-4f70-a312-f601e2e336f6",
   "metadata": {},
   "source": [
    "### 3.5 distribution of job categories"
   ]
  },
  {
   "cell_type": "code",
   "execution_count": 73,
   "id": "3bf7a518-7e2b-4c91-ad13-d041640acacd",
   "metadata": {},
   "outputs": [
    {
     "data": {
      "text/html": [
       "<div>\n",
       "<style scoped>\n",
       "    .dataframe tbody tr th:only-of-type {\n",
       "        vertical-align: middle;\n",
       "    }\n",
       "\n",
       "    .dataframe tbody tr th {\n",
       "        vertical-align: top;\n",
       "    }\n",
       "\n",
       "    .dataframe thead th {\n",
       "        text-align: right;\n",
       "    }\n",
       "</style>\n",
       "<table border=\"1\" class=\"dataframe\">\n",
       "  <thead>\n",
       "    <tr style=\"text-align: right;\">\n",
       "      <th>y</th>\n",
       "      <th>no</th>\n",
       "      <th>yes</th>\n",
       "    </tr>\n",
       "    <tr>\n",
       "      <th>job</th>\n",
       "      <th></th>\n",
       "      <th></th>\n",
       "    </tr>\n",
       "  </thead>\n",
       "  <tbody>\n",
       "    <tr>\n",
       "      <th>admin.</th>\n",
       "      <td>420</td>\n",
       "      <td>58</td>\n",
       "    </tr>\n",
       "    <tr>\n",
       "      <th>blue-collar</th>\n",
       "      <td>877</td>\n",
       "      <td>69</td>\n",
       "    </tr>\n",
       "    <tr>\n",
       "      <th>entrepreneur</th>\n",
       "      <td>153</td>\n",
       "      <td>15</td>\n",
       "    </tr>\n",
       "    <tr>\n",
       "      <th>housemaid</th>\n",
       "      <td>98</td>\n",
       "      <td>14</td>\n",
       "    </tr>\n",
       "    <tr>\n",
       "      <th>management</th>\n",
       "      <td>838</td>\n",
       "      <td>131</td>\n",
       "    </tr>\n",
       "    <tr>\n",
       "      <th>retired</th>\n",
       "      <td>176</td>\n",
       "      <td>54</td>\n",
       "    </tr>\n",
       "    <tr>\n",
       "      <th>self-employed</th>\n",
       "      <td>163</td>\n",
       "      <td>20</td>\n",
       "    </tr>\n",
       "    <tr>\n",
       "      <th>services</th>\n",
       "      <td>379</td>\n",
       "      <td>38</td>\n",
       "    </tr>\n",
       "    <tr>\n",
       "      <th>student</th>\n",
       "      <td>65</td>\n",
       "      <td>19</td>\n",
       "    </tr>\n",
       "    <tr>\n",
       "      <th>technician</th>\n",
       "      <td>685</td>\n",
       "      <td>83</td>\n",
       "    </tr>\n",
       "    <tr>\n",
       "      <th>unemployed</th>\n",
       "      <td>115</td>\n",
       "      <td>13</td>\n",
       "    </tr>\n",
       "    <tr>\n",
       "      <th>unknown</th>\n",
       "      <td>31</td>\n",
       "      <td>7</td>\n",
       "    </tr>\n",
       "  </tbody>\n",
       "</table>\n",
       "</div>"
      ],
      "text/plain": [
       "y               no  yes\n",
       "job                    \n",
       "admin.         420   58\n",
       "blue-collar    877   69\n",
       "entrepreneur   153   15\n",
       "housemaid       98   14\n",
       "management     838  131\n",
       "retired        176   54\n",
       "self-employed  163   20\n",
       "services       379   38\n",
       "student         65   19\n",
       "technician     685   83\n",
       "unemployed     115   13\n",
       "unknown         31    7"
      ]
     },
     "execution_count": 73,
     "metadata": {},
     "output_type": "execute_result"
    }
   ],
   "source": [
    "jobs= pd.crosstab(data['job'], data['y'])\n",
    "jobs"
   ]
  },
  {
   "cell_type": "code",
   "execution_count": 74,
   "id": "80e30879-0f0e-480b-bc27-742b7f4b918a",
   "metadata": {},
   "outputs": [
    {
     "data": {
      "text/plain": [
       "<Axes: xlabel='job'>"
      ]
     },
     "execution_count": 74,
     "metadata": {},
     "output_type": "execute_result"
    },
    {
     "data": {
      "image/png": "[encoded data removed]",
      "text/plain": [
       "<Figure size 1000x600 with 1 Axes>"
      ]
     },
     "metadata": {},
     "output_type": "display_data"
    }
   ],
   "source": [
    "jobs.plot.bar(stacked=True, figsize=(10,6))"
   ]
  },
  {
   "cell_type": "code",
   "execution_count": 75,
   "id": "6fcda684-f930-4ede-ab1e-ae2179a3f127",
   "metadata": {},
   "outputs": [
    {
     "data": {
      "image/png": "[encoded data removed]",
      "text/plain": [
       "<Figure size 1000x600 with 1 Axes>"
      ]
     },
     "metadata": {},
     "output_type": "display_data"
    }
   ],
   "source": [
    "subscription_rate = data.groupby('job')['y'].value_counts(normalize=True).unstack()\n",
    "\n",
    "plt.figure(figsize=(10, 6))\n",
    "subscription_rate['yes'].plot(kind='bar', color='orange')\n",
    "plt.title('Subscription Rate per Job')\n",
    "plt.xlabel('Job')\n",
    "plt.ylabel('Subscription Rate (yes)')\n",
    "plt.xticks(rotation=45)\n",
    "plt.show()"
   ]
  },
  {
   "cell_type": "code",
   "execution_count": 76,
   "id": "3b94f26c-948a-424c-aa8a-e98d71a2da9e",
   "metadata": {},
   "outputs": [
    {
     "data": {
      "text/plain": [
       "<Figure size 1200x600 with 0 Axes>"
      ]
     },
     "metadata": {},
     "output_type": "display_data"
    },
    {
     "data": {
      "image/png": "[encoded data removed]",
      "text/plain": [
       "<Figure size 640x480 with 1 Axes>"
      ]
     },
     "metadata": {},
     "output_type": "display_data"
    }
   ],
   "source": [
    "# Count the number of 'yes' and 'no' for each job category\n",
    "job_subscription_counts = data.groupby('job')['y'].value_counts().unstack()\n",
    "\n",
    "# Plot the grouped bar chart\n",
    "plt.figure(figsize=(12, 6))\n",
    "job_subscription_counts.plot(kind='bar', stacked=False, color=['orange', 'skyblue'], width=0.8)\n",
    "plt.title('Number of Subscriptions and Non-subscriptions per Job Category')\n",
    "plt.xlabel('Job')\n",
    "plt.ylabel('Count')\n",
    "plt.xticks(rotation=45)\n",
    "plt.legend(title='Subscription Status')\n",
    "plt.show()"
   ]
  },
  {
   "cell_type": "code",
   "execution_count": 77,
   "id": "d3f1fcc3-66c7-4f28-9510-7852c0e626b2",
   "metadata": {},
   "outputs": [
    {
     "data": {
      "text/html": [
       "<div>\n",
       "<style scoped>\n",
       "    .dataframe tbody tr th:only-of-type {\n",
       "        vertical-align: middle;\n",
       "    }\n",
       "\n",
       "    .dataframe tbody tr th {\n",
       "        vertical-align: top;\n",
       "    }\n",
       "\n",
       "    .dataframe thead th {\n",
       "        text-align: right;\n",
       "    }\n",
       "</style>\n",
       "<table border=\"1\" class=\"dataframe\">\n",
       "  <thead>\n",
       "    <tr style=\"text-align: right;\">\n",
       "      <th>y</th>\n",
       "      <th>no</th>\n",
       "      <th>yes</th>\n",
       "    </tr>\n",
       "    <tr>\n",
       "      <th>marital</th>\n",
       "      <th></th>\n",
       "      <th></th>\n",
       "    </tr>\n",
       "  </thead>\n",
       "  <tbody>\n",
       "    <tr>\n",
       "      <th>divorced</th>\n",
       "      <td>451</td>\n",
       "      <td>77</td>\n",
       "    </tr>\n",
       "    <tr>\n",
       "      <th>married</th>\n",
       "      <td>2520</td>\n",
       "      <td>277</td>\n",
       "    </tr>\n",
       "    <tr>\n",
       "      <th>single</th>\n",
       "      <td>1029</td>\n",
       "      <td>167</td>\n",
       "    </tr>\n",
       "  </tbody>\n",
       "</table>\n",
       "</div>"
      ],
      "text/plain": [
       "y           no  yes\n",
       "marital            \n",
       "divorced   451   77\n",
       "married   2520  277\n",
       "single    1029  167"
      ]
     },
     "execution_count": 77,
     "metadata": {},
     "output_type": "execute_result"
    }
   ],
   "source": [
    "marital = pd.crosstab(data['marital'], data['y'])\n",
    "marital"
   ]
  },
  {
   "cell_type": "code",
   "execution_count": 78,
   "id": "8e9c09dd-fa0b-4a5e-b97c-734e7575610e",
   "metadata": {},
   "outputs": [
    {
     "data": {
      "text/plain": [
       "<Axes: xlabel='marital'>"
      ]
     },
     "execution_count": 78,
     "metadata": {},
     "output_type": "execute_result"
    },
    {
     "data": {
      "image/png": "[encoded data removed]",
      "text/plain": [
       "<Figure size 1000x600 with 1 Axes>"
      ]
     },
     "metadata": {},
     "output_type": "display_data"
    }
   ],
   "source": [
    "marital.plot.bar(stacked=True, figsize=(10, 6))"
   ]
  },
  {
   "cell_type": "code",
   "execution_count": 79,
   "id": "32a4456e-b26a-4240-a6a7-29658634663b",
   "metadata": {},
   "outputs": [
    {
     "data": {
      "text/html": [
       "<div>\n",
       "<style scoped>\n",
       "    .dataframe tbody tr th:only-of-type {\n",
       "        vertical-align: middle;\n",
       "    }\n",
       "\n",
       "    .dataframe tbody tr th {\n",
       "        vertical-align: top;\n",
       "    }\n",
       "\n",
       "    .dataframe thead th {\n",
       "        text-align: right;\n",
       "    }\n",
       "</style>\n",
       "<table border=\"1\" class=\"dataframe\">\n",
       "  <thead>\n",
       "    <tr style=\"text-align: right;\">\n",
       "      <th>y</th>\n",
       "      <th>no</th>\n",
       "      <th>yes</th>\n",
       "    </tr>\n",
       "    <tr>\n",
       "      <th>poutcome</th>\n",
       "      <th></th>\n",
       "      <th></th>\n",
       "    </tr>\n",
       "  </thead>\n",
       "  <tbody>\n",
       "    <tr>\n",
       "      <th>failure</th>\n",
       "      <td>427</td>\n",
       "      <td>63</td>\n",
       "    </tr>\n",
       "    <tr>\n",
       "      <th>other</th>\n",
       "      <td>159</td>\n",
       "      <td>38</td>\n",
       "    </tr>\n",
       "    <tr>\n",
       "      <th>success</th>\n",
       "      <td>46</td>\n",
       "      <td>83</td>\n",
       "    </tr>\n",
       "    <tr>\n",
       "      <th>unknown</th>\n",
       "      <td>3368</td>\n",
       "      <td>337</td>\n",
       "    </tr>\n",
       "  </tbody>\n",
       "</table>\n",
       "</div>"
      ],
      "text/plain": [
       "y           no  yes\n",
       "poutcome           \n",
       "failure    427   63\n",
       "other      159   38\n",
       "success     46   83\n",
       "unknown   3368  337"
      ]
     },
     "execution_count": 79,
     "metadata": {},
     "output_type": "execute_result"
    }
   ],
   "source": [
    "poutcome = pd.crosstab(data['poutcome'], data['y'])\n",
    "poutcome"
   ]
  },
  {
   "cell_type": "code",
   "execution_count": 80,
   "id": "52c3369b-edde-47af-a91e-36db58a39492",
   "metadata": {},
   "outputs": [
    {
     "data": {
      "text/plain": [
       "<Axes: xlabel='poutcome'>"
      ]
     },
     "execution_count": 80,
     "metadata": {},
     "output_type": "execute_result"
    },
    {
     "data": {
      "image/png": "[encoded data removed]",
      "text/plain": [
       "<Figure size 1000x600 with 1 Axes>"
      ]
     },
     "metadata": {},
     "output_type": "display_data"
    }
   ],
   "source": [
    "poutcome.plot.bar(stacked=True, figsize=(10,6))"
   ]
  },
  {
   "cell_type": "code",
   "execution_count": 81,
   "id": "5ad8e12e-887e-4437-9c9d-d12784c00c6f",
   "metadata": {},
   "outputs": [
    {
     "data": {
      "text/html": [
       "<div>\n",
       "<style scoped>\n",
       "    .dataframe tbody tr th:only-of-type {\n",
       "        vertical-align: middle;\n",
       "    }\n",
       "\n",
       "    .dataframe tbody tr th {\n",
       "        vertical-align: top;\n",
       "    }\n",
       "\n",
       "    .dataframe thead th {\n",
       "        text-align: right;\n",
       "    }\n",
       "</style>\n",
       "<table border=\"1\" class=\"dataframe\">\n",
       "  <thead>\n",
       "    <tr style=\"text-align: right;\">\n",
       "      <th>y</th>\n",
       "      <th>no</th>\n",
       "      <th>yes</th>\n",
       "    </tr>\n",
       "    <tr>\n",
       "      <th>campaign</th>\n",
       "      <th></th>\n",
       "      <th></th>\n",
       "    </tr>\n",
       "  </thead>\n",
       "  <tbody>\n",
       "    <tr>\n",
       "      <th>1</th>\n",
       "      <td>1494</td>\n",
       "      <td>240</td>\n",
       "    </tr>\n",
       "    <tr>\n",
       "      <th>2</th>\n",
       "      <td>1126</td>\n",
       "      <td>138</td>\n",
       "    </tr>\n",
       "    <tr>\n",
       "      <th>3</th>\n",
       "      <td>501</td>\n",
       "      <td>57</td>\n",
       "    </tr>\n",
       "    <tr>\n",
       "      <th>4</th>\n",
       "      <td>282</td>\n",
       "      <td>43</td>\n",
       "    </tr>\n",
       "    <tr>\n",
       "      <th>5</th>\n",
       "      <td>158</td>\n",
       "      <td>9</td>\n",
       "    </tr>\n",
       "    <tr>\n",
       "      <th>6</th>\n",
       "      <td>139</td>\n",
       "      <td>16</td>\n",
       "    </tr>\n",
       "    <tr>\n",
       "      <th>7</th>\n",
       "      <td>69</td>\n",
       "      <td>6</td>\n",
       "    </tr>\n",
       "    <tr>\n",
       "      <th>8</th>\n",
       "      <td>52</td>\n",
       "      <td>4</td>\n",
       "    </tr>\n",
       "    <tr>\n",
       "      <th>9</th>\n",
       "      <td>28</td>\n",
       "      <td>2</td>\n",
       "    </tr>\n",
       "    <tr>\n",
       "      <th>10</th>\n",
       "      <td>26</td>\n",
       "      <td>1</td>\n",
       "    </tr>\n",
       "    <tr>\n",
       "      <th>11</th>\n",
       "      <td>22</td>\n",
       "      <td>0</td>\n",
       "    </tr>\n",
       "    <tr>\n",
       "      <th>12</th>\n",
       "      <td>20</td>\n",
       "      <td>1</td>\n",
       "    </tr>\n",
       "    <tr>\n",
       "      <th>13</th>\n",
       "      <td>15</td>\n",
       "      <td>2</td>\n",
       "    </tr>\n",
       "    <tr>\n",
       "      <th>14</th>\n",
       "      <td>10</td>\n",
       "      <td>0</td>\n",
       "    </tr>\n",
       "    <tr>\n",
       "      <th>15</th>\n",
       "      <td>9</td>\n",
       "      <td>0</td>\n",
       "    </tr>\n",
       "    <tr>\n",
       "      <th>16</th>\n",
       "      <td>8</td>\n",
       "      <td>0</td>\n",
       "    </tr>\n",
       "    <tr>\n",
       "      <th>17</th>\n",
       "      <td>6</td>\n",
       "      <td>1</td>\n",
       "    </tr>\n",
       "    <tr>\n",
       "      <th>18</th>\n",
       "      <td>7</td>\n",
       "      <td>0</td>\n",
       "    </tr>\n",
       "    <tr>\n",
       "      <th>19</th>\n",
       "      <td>3</td>\n",
       "      <td>0</td>\n",
       "    </tr>\n",
       "    <tr>\n",
       "      <th>20</th>\n",
       "      <td>3</td>\n",
       "      <td>0</td>\n",
       "    </tr>\n",
       "    <tr>\n",
       "      <th>21</th>\n",
       "      <td>2</td>\n",
       "      <td>0</td>\n",
       "    </tr>\n",
       "    <tr>\n",
       "      <th>22</th>\n",
       "      <td>2</td>\n",
       "      <td>0</td>\n",
       "    </tr>\n",
       "    <tr>\n",
       "      <th>23</th>\n",
       "      <td>2</td>\n",
       "      <td>0</td>\n",
       "    </tr>\n",
       "    <tr>\n",
       "      <th>24</th>\n",
       "      <td>2</td>\n",
       "      <td>1</td>\n",
       "    </tr>\n",
       "    <tr>\n",
       "      <th>25</th>\n",
       "      <td>4</td>\n",
       "      <td>0</td>\n",
       "    </tr>\n",
       "    <tr>\n",
       "      <th>28</th>\n",
       "      <td>3</td>\n",
       "      <td>0</td>\n",
       "    </tr>\n",
       "    <tr>\n",
       "      <th>29</th>\n",
       "      <td>1</td>\n",
       "      <td>0</td>\n",
       "    </tr>\n",
       "    <tr>\n",
       "      <th>30</th>\n",
       "      <td>1</td>\n",
       "      <td>0</td>\n",
       "    </tr>\n",
       "    <tr>\n",
       "      <th>31</th>\n",
       "      <td>1</td>\n",
       "      <td>0</td>\n",
       "    </tr>\n",
       "    <tr>\n",
       "      <th>32</th>\n",
       "      <td>2</td>\n",
       "      <td>0</td>\n",
       "    </tr>\n",
       "    <tr>\n",
       "      <th>44</th>\n",
       "      <td>1</td>\n",
       "      <td>0</td>\n",
       "    </tr>\n",
       "    <tr>\n",
       "      <th>50</th>\n",
       "      <td>1</td>\n",
       "      <td>0</td>\n",
       "    </tr>\n",
       "  </tbody>\n",
       "</table>\n",
       "</div>"
      ],
      "text/plain": [
       "y           no  yes\n",
       "campaign           \n",
       "1         1494  240\n",
       "2         1126  138\n",
       "3          501   57\n",
       "4          282   43\n",
       "5          158    9\n",
       "6          139   16\n",
       "7           69    6\n",
       "8           52    4\n",
       "9           28    2\n",
       "10          26    1\n",
       "11          22    0\n",
       "12          20    1\n",
       "13          15    2\n",
       "14          10    0\n",
       "15           9    0\n",
       "16           8    0\n",
       "17           6    1\n",
       "18           7    0\n",
       "19           3    0\n",
       "20           3    0\n",
       "21           2    0\n",
       "22           2    0\n",
       "23           2    0\n",
       "24           2    1\n",
       "25           4    0\n",
       "28           3    0\n",
       "29           1    0\n",
       "30           1    0\n",
       "31           1    0\n",
       "32           2    0\n",
       "44           1    0\n",
       "50           1    0"
      ]
     },
     "execution_count": 81,
     "metadata": {},
     "output_type": "execute_result"
    }
   ],
   "source": [
    "campaigns = pd.crosstab(data['campaign'], data['y'])\n",
    "campaigns"
   ]
  },
  {
   "cell_type": "code",
   "execution_count": 82,
   "id": "08ed05c2-b295-4b8b-99d4-23a35787fa7e",
   "metadata": {},
   "outputs": [
    {
     "data": {
      "text/html": [
       "<div>\n",
       "<style scoped>\n",
       "    .dataframe tbody tr th:only-of-type {\n",
       "        vertical-align: middle;\n",
       "    }\n",
       "\n",
       "    .dataframe tbody tr th {\n",
       "        vertical-align: top;\n",
       "    }\n",
       "\n",
       "    .dataframe thead th {\n",
       "        text-align: right;\n",
       "    }\n",
       "</style>\n",
       "<table border=\"1\" class=\"dataframe\">\n",
       "  <thead>\n",
       "    <tr style=\"text-align: right;\">\n",
       "      <th>y</th>\n",
       "      <th>no</th>\n",
       "      <th>yes</th>\n",
       "      <th>acceptance_rate</th>\n",
       "    </tr>\n",
       "    <tr>\n",
       "      <th>default</th>\n",
       "      <th></th>\n",
       "      <th></th>\n",
       "      <th></th>\n",
       "    </tr>\n",
       "  </thead>\n",
       "  <tbody>\n",
       "    <tr>\n",
       "      <th>no</th>\n",
       "      <td>3933</td>\n",
       "      <td>512</td>\n",
       "      <td>11.518560</td>\n",
       "    </tr>\n",
       "    <tr>\n",
       "      <th>yes</th>\n",
       "      <td>67</td>\n",
       "      <td>9</td>\n",
       "      <td>11.842105</td>\n",
       "    </tr>\n",
       "  </tbody>\n",
       "</table>\n",
       "</div>"
      ],
      "text/plain": [
       "y          no  yes  acceptance_rate\n",
       "default                            \n",
       "no       3933  512        11.518560\n",
       "yes        67    9        11.842105"
      ]
     },
     "execution_count": 82,
     "metadata": {},
     "output_type": "execute_result"
    }
   ],
   "source": [
    "default = pd.crosstab(data['default'], data['y'])\n",
    "\n",
    "# Calculate the acceptance rate (the percentage of \"yes\" subscriptions)\n",
    "default['acceptance_rate'] = default['yes'] / (default['yes'] + default['no']) * 100\n",
    "\n",
    "default"
   ]
  },
  {
   "cell_type": "code",
   "execution_count": 83,
   "id": "8e1be90e-e7c1-459d-ac67-be3002c9bca4",
   "metadata": {},
   "outputs": [
    {
     "data": {
      "text/html": [
       "<div>\n",
       "<style scoped>\n",
       "    .dataframe tbody tr th:only-of-type {\n",
       "        vertical-align: middle;\n",
       "    }\n",
       "\n",
       "    .dataframe tbody tr th {\n",
       "        vertical-align: top;\n",
       "    }\n",
       "\n",
       "    .dataframe thead th {\n",
       "        text-align: right;\n",
       "    }\n",
       "</style>\n",
       "<table border=\"1\" class=\"dataframe\">\n",
       "  <thead>\n",
       "    <tr style=\"text-align: right;\">\n",
       "      <th>y</th>\n",
       "      <th>no</th>\n",
       "      <th>yes</th>\n",
       "      <th>acceptance_rate</th>\n",
       "    </tr>\n",
       "    <tr>\n",
       "      <th>loan</th>\n",
       "      <th></th>\n",
       "      <th></th>\n",
       "      <th></th>\n",
       "    </tr>\n",
       "  </thead>\n",
       "  <tbody>\n",
       "    <tr>\n",
       "      <th>no</th>\n",
       "      <td>3352</td>\n",
       "      <td>478</td>\n",
       "      <td>12.480418</td>\n",
       "    </tr>\n",
       "    <tr>\n",
       "      <th>yes</th>\n",
       "      <td>648</td>\n",
       "      <td>43</td>\n",
       "      <td>6.222865</td>\n",
       "    </tr>\n",
       "  </tbody>\n",
       "</table>\n",
       "</div>"
      ],
      "text/plain": [
       "y       no  yes  acceptance_rate\n",
       "loan                            \n",
       "no    3352  478        12.480418\n",
       "yes    648   43         6.222865"
      ]
     },
     "execution_count": 83,
     "metadata": {},
     "output_type": "execute_result"
    }
   ],
   "source": [
    "loan = pd.crosstab(data.loan, data.y)\n",
    "\n",
    "# Calculate the acceptance rate (the percentage of \"yes\" subscriptions)\n",
    "loan['acceptance_rate'] = loan['yes'] / (loan['yes'] + loan['no']) * 100\n",
    "\n",
    "loan"
   ]
  },
  {
   "cell_type": "markdown",
   "id": "f43809ba-4700-454d-aa42-48d1a4c08f1c",
   "metadata": {},
   "source": [
    "## 4 Target and features splitting"
   ]
  },
  {
   "cell_type": "markdown",
   "id": "bbd6cd38-2730-4b5c-9d12-2612ea408fb7",
   "metadata": {},
   "source": [
    "### 4.1 features and target"
   ]
  },
  {
   "cell_type": "code",
   "execution_count": 84,
   "id": "a5fd5b03-6f41-4e05-b245-4e18cbd9258d",
   "metadata": {},
   "outputs": [],
   "source": [
    "# Define features and target\n",
    "X = data.drop('y', axis=1)\n",
    "y = data['y']"
   ]
  },
  {
   "cell_type": "markdown",
   "id": "9203b435-dac9-4769-b9a2-37fa8e93b965",
   "metadata": {},
   "source": [
    "### 4.2 test-train split"
   ]
  },
  {
   "cell_type": "code",
   "execution_count": 85,
   "id": "878e6b4a-d52d-4481-b084-e844a79916a1",
   "metadata": {},
   "outputs": [],
   "source": [
    "# Split the data\n",
    "X_train, X_test, y_train, y_test = train_test_split(X, y, test_size=0.2, random_state=42)"
   ]
  },
  {
   "cell_type": "markdown",
   "id": "e949267d-26b3-4aab-8e02-26a7cf7963f4",
   "metadata": {},
   "source": [
    "### 4.3 One Hot Encoding"
   ]
  },
  {
   "cell_type": "code",
   "execution_count": 86,
   "id": "a4ed8bfe-20c1-49ab-9c5f-5806f0b2a16a",
   "metadata": {},
   "outputs": [],
   "source": [
    "# Encoding categorical variables\n",
    "categorical_cols = ['job', 'marital', 'default', 'housing', 'loan', 'poutcome']\n",
    "\n",
    "X_train_encoded = pd.get_dummies(X_train, columns=categorical_cols, drop_first=True)\n",
    "X_test_encoded = pd.get_dummies(X_test, columns=categorical_cols, drop_first=True)"
   ]
  },
  {
   "cell_type": "markdown",
   "id": "323fdc1f-1b72-40c1-bc79-8c89ca778e23",
   "metadata": {},
   "source": [
    "### 4.4 Apply smote to handle the class imbalance\n",
    "\n",
    "SMOTE is an oversampling technique where the synthetic samples are generated for the minority class"
   ]
  },
  {
   "cell_type": "code",
   "execution_count": 87,
   "id": "6cdbdfca-bf50-4cd9-8303-3050a5a0ecd3",
   "metadata": {},
   "outputs": [],
   "source": [
    "# Apply SMOTE for class imbalance\n",
    "\n",
    "smote = SMOTE(random_state=42)\n",
    "X_train_resampled, y_train_resampled = smote.fit_resample(X_train_encoded, y_train)"
   ]
  },
  {
   "cell_type": "markdown",
   "id": "453778d2-e53b-4697-9b63-f5a949cd182a",
   "metadata": {},
   "source": [
    "### 4.5 Scaling Numerical Features"
   ]
  },
  {
   "cell_type": "code",
   "execution_count": 88,
   "id": "b1e0822e-2094-4f9c-9b71-22a059324563",
   "metadata": {},
   "outputs": [],
   "source": [
    "# Scaling numerical features\n",
    "scaler = StandardScaler()\n",
    "X_train_scaled = scaler.fit_transform(X_train_resampled)\n",
    "X_test_scaled = scaler.transform(X_test_encoded)"
   ]
  },
  {
   "cell_type": "markdown",
   "id": "fe410134-af19-48d3-8b51-80247791b383",
   "metadata": {},
   "source": [
    "## 5 Modelling"
   ]
  },
  {
   "cell_type": "markdown",
   "id": "61791ebb-0780-4951-bbfd-708402ab9cd7",
   "metadata": {},
   "source": [
    "## 5.1 Baseline Model - Logistic Regression"
   ]
  },
  {
   "cell_type": "markdown",
   "id": "9c529184-c1ec-408a-8f11-5216e9f444c7",
   "metadata": {},
   "source": [
    "Logistic Regression is a good starting point as a baseline model due to its simplicity and interpretability."
   ]
  },
  {
   "cell_type": "code",
   "execution_count": 90,
   "id": "1a201634-a1a0-41fc-b4cf-db610c120008",
   "metadata": {},
   "outputs": [],
   "source": [
    "# Initialize and train the Logistic Regression model\n",
    "log_reg = LogisticRegression(random_state=42)\n",
    "log_reg.fit(X_train_scaled, y_train_smote)\n",
    "\n",
    "# Make predictions\n",
    "y_pred_log_reg = log_reg.predict(X_test_scaled)"
   ]
  },
  {
   "cell_type": "markdown",
   "id": "363d43db-7fb2-4344-815d-5685f7a0a9c2",
   "metadata": {},
   "source": [
    "### 5.1.1 Baseline Model evaluation"
   ]
  },
  {
   "cell_type": "code",
   "execution_count": 91,
   "id": "31c9eb8c-00f5-499d-8535-ceb616a57f8e",
   "metadata": {},
   "outputs": [
    {
     "name": "stdout",
     "output_type": "stream",
     "text": [
      "Logistic Regression Classification Report:\n",
      "              precision    recall  f1-score   support\n",
      "\n",
      "          no       0.91      0.87      0.89       807\n",
      "         yes       0.19      0.26      0.22        98\n",
      "\n",
      "    accuracy                           0.80       905\n",
      "   macro avg       0.55      0.56      0.55       905\n",
      "weighted avg       0.83      0.80      0.82       905\n",
      "\n",
      "Confusion Matrix:\n",
      "[[703 104]\n",
      " [ 73  25]]\n",
      "ROC AUC Score: 0.6476493943302228\n"
     ]
    }
   ],
   "source": [
    "# Evaluate the model\n",
    "print(\"Logistic Regression Classification Report:\")\n",
    "print(classification_report(y_test, y_pred_log_reg))\n",
    "print(\"Confusion Matrix:\")\n",
    "print(confusion_matrix(y_test, y_pred_log_reg))\n",
    "print(\"ROC AUC Score:\", roc_auc_score(y_test, log_reg.predict_proba(X_test_scaled)[:, 1]))"
   ]
  },
  {
   "cell_type": "markdown",
   "id": "bba1ad54-2e49-4769-b83d-ca8d3705711d",
   "metadata": {},
   "source": [
    "### baseline model evaluation\n"
   ]
  },
  {
   "cell_type": "markdown",
   "id": "d81731a8-df20-4c8b-8907-2f1679fa027b",
   "metadata": {},
   "source": [
    "Precision:\n",
    "* No: 0.91\n",
    "* Yes: 0.19\n",
    "    * The model is highly accurate at predicting 'no' outcomes (91%) but performs poorly for 'yes' outcomes (19%). This indicates that the model is not effective at identifying positive cases.\n",
    "\n",
    "\n",
    "Recall\n",
    "* No: 0.87\n",
    "* Yes: 0.26\n",
    "    * The model is better at identifying 'no' outcomes (87%) but only identifies 26% of the 'yes' outcomes. This suggests that the model is missing a lot of the positive cases.\n",
    "\n",
    "* The model has a high F1-score for 'no' (0.89) but a very low F1-score for 'yes' (0.22), which indicates that the model's performance is significantly weaker for predicting the 'yes' class.\n",
    "\n",
    "* The accuracy of the model is 80%, which seems high. However, due to the class imbalance (more 'no' outcomes), accuracy can be misleading. A model could achieve high accuracy by simply predicting the majority class ('no')."
   ]
  },
  {
   "cell_type": "markdown",
   "id": "b6af23e2-3794-4a86-bd9d-15a3810502f2",
   "metadata": {},
   "source": [
    "#### Confusion Matrix\n",
    "The confusion matrix confirms that the model has a high number of false positives and false negatives. This contributes to the poor recall and precision for the 'yes' class."
   ]
  },
  {
   "cell_type": "markdown",
   "id": "a0124742-7fd6-4a64-b7b5-3c71bea94aee",
   "metadata": {},
   "source": [
    "#### ROC AUC Score\n",
    "* A score of 0.65 indicates that the model has some discriminative power but is not performing very well.\n",
    "* A score closer to 1.0 would indicate a better model."
   ]
  },
  {
   "cell_type": "markdown",
   "id": "1e578f01-4536-414f-a0d8-b6c0871ee39d",
   "metadata": {},
   "source": [
    "## 5.2 Advanced model - Decision Tree"
   ]
  },
  {
   "cell_type": "code",
   "execution_count": null,
   "id": "28fe151d-7e71-4092-99f8-13e2a16dace7",
   "metadata": {},
   "outputs": [],
   "source": []
  }
 ],
 "metadata": {
  "kernelspec": {
   "display_name": "Python (learn-env)",
   "language": "python",
   "name": "learn-env"
  },
  "language_info": {
   "codemirror_mode": {
    "name": "ipython",
    "version": 3
   },
   "file_extension": ".py",
   "mimetype": "text/x-python",
   "name": "python",
   "nbconvert_exporter": "python",
   "pygments_lexer": "ipython3",
   "version": "3.11.9"
  }
 },
 "nbformat": 4,
 "nbformat_minor": 5
}
